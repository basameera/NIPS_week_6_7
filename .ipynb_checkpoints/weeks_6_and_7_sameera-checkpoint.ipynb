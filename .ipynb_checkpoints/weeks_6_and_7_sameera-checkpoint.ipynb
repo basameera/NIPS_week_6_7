{
 "cells": [
  {
   "cell_type": "markdown",
   "metadata": {
    "colab_type": "text",
    "id": "CGc6Y5_eKaPD"
   },
   "source": [
    "**SOW-MKI49: Neural Information Processing Systems**  \n",
    "*Weeks 6 and 7: Assignment (100 points + 20 bonus points)  \n",
    "Author: Luca and Umut"
   ]
  },
  {
   "cell_type": "markdown",
   "metadata": {
    "colab": {},
    "colab_type": "code",
    "id": "cBlzrHdoKzvY"
   },
   "source": [
    "# Group number: 17\n",
    "\n",
    "1. Sameera Sandaruwan, s1014012\n",
    "2. Mohit Jethwani, s1019474"
   ]
  },
  {
   "cell_type": "markdown",
   "metadata": {},
   "source": [
    "# To Implement\n",
    "\n",
    "1. Encoder - DONE\n",
    "2. Decoder - DONE\n",
    "3. Loss function - DONE\n",
    "4. Model (sample from latent features) - DONE\n",
    "5. Data preparation - Mohit\n",
    "6. Training block - Mohit\n",
    "\n",
    "# Questions to ask\n"
   ]
  },
  {
   "cell_type": "markdown",
   "metadata": {},
   "source": [
    "# Notes\n",
    "---\n",
    "http://kvfrans.com/variational-autoencoders-explained/\n",
    "\n",
    "However, there were a couple of downsides to using a plain GAN.\n",
    "\n",
    "First, the images are generated off some arbitrary noise. If you wanted to generate a picture with specific features, there's no way of determining which initial noise values would produce that picture, other than searching over the entire distribution.\n",
    "\n",
    "Second, a generative adversarial model only discriminates between \"real\" and \"fake\" images. There's no constraints that an image of a cat has to look like a cat. This leads to results where there's no actual object in a generated image, but the style just looks like picture.\n",
    "\n",
    "In this post, I'll go over the variational autoencoder, a type of network that solves these two problems.\n",
    "\n",
    "The more efficiently we can encode the original image, the higher we can raise the standard deviation on our gaussian until it reaches one.\n",
    "\n",
    "https://github.com/chainer/chainer/blob/master/examples/vae/net.py\n",
    "\n",
    "https://github.com/musyoku/variational-autoencoder/blob/master/vae_m1.py\n",
    "\n",
    "---\n",
    "## To Do\n",
    "\n",
    "1. Search Variational autoencoder\n",
    "2. Search Variational inference\n",
    "3. Find Input and Output dimensions of dataset: \n",
    "Depends on our Network architecture. Network can be Convolutional (input is 28x28, output 1x10) or Linear (input is 1x784, output 1x10)\n",
    "4. Check the architecture\n",
    "5. How the loss function work here\n",
    "6. figure out the architecture and what (X, Y, Z) are\n",
    "7. Unit gaussian distribution\n",
    "\n",
    "sdf"
   ]
  },
  {
   "cell_type": "code",
   "execution_count": 1,
   "metadata": {
    "colab": {},
    "colab_type": "code",
    "id": "Gz0FZAwiJ-al"
   },
   "outputs": [],
   "source": [
    "from chainer import cuda, datasets, serializers\n",
    "from chainer.dataset import DatasetMixin, concat_examples\n",
    "from chainer.iterators import MultithreadIterator\n",
    "from chainer.iterators import SerialIterator\n",
    "from chainer.optimizers import Adam\n",
    "import chainer\n",
    "import chainer.functions as F\n",
    "import chainer.links as L\n",
    "import cupy\n",
    "import numpy as np\n",
    "import tqdm\n",
    "import time\n",
    "\n",
    "model_directory = 'Model'\n",
    "train_session = 'RMSprop'\n",
    "device = 0"
   ]
  },
  {
   "cell_type": "code",
   "execution_count": 2,
   "metadata": {},
   "outputs": [],
   "source": [
    "import matplotlib.pyplot as plt\n",
    "%matplotlib inline"
   ]
  },
  {
   "cell_type": "code",
   "execution_count": 3,
   "metadata": {},
   "outputs": [],
   "source": [
    "n_in = 28*28\n",
    "n_h = 1024\n",
    "n_latent = 10"
   ]
  },
  {
   "cell_type": "markdown",
   "metadata": {
    "colab_type": "text",
    "id": "ckO0T0SLAFf7"
   },
   "source": [
    "# Decoder\n",
    "This is the decoder class. It transforms **latents (features) to observables (images)**. It corresponds to p(x | z) in the context of **variational inference** (and the slides), **where x is observables and y is latents.**\n",
    "\n",
    "Task: (10 points)\n",
    "\n",
    "- Implement the decoder class for a **variational autoencoder**. Note that the **decoder** should output the **Gaussian distribution parameters (mean and variance per pixel)** of images rather than images themselves."
   ]
  },
  {
   "cell_type": "code",
   "execution_count": 4,
   "metadata": {
    "colab": {},
    "colab_type": "code",
    "id": "ew8VZCkl-FdE"
   },
   "outputs": [],
   "source": [
    "class Decoder(chainer.ChainList):\n",
    "    def __init__(self): # <= you might want to pass some architecture parameters (e.g., #i/o units, etc.) here\n",
    "        super(Decoder, self).__init__(\n",
    "            # pass your decoder layers here\n",
    "            L.Linear(10, 500),\n",
    "            L.Linear(500, 1024),\n",
    "            L.Linear(1024, 784),\n",
    "            L.Linear(1024, 784),\n",
    "        )\n",
    "\n",
    "    def __call__(self, x):\n",
    "        h = F.relu(self[0](x))\n",
    "        h = F.relu(self[1](h))\n",
    "        mean_x = F.softmax(self[-1](h))\n",
    "        ln_var_x = F.softmax(self[-2](h))\n",
    "        \n",
    "        return mean_x, ln_var_x"
   ]
  },
  {
   "cell_type": "markdown",
   "metadata": {
    "colab_type": "text",
    "id": "d36RjWO6AKqO"
   },
   "source": [
    "# Encoder\n",
    "This is the encoder class. It transforms **observables (images) to latents (features)**. It corresponds to **q(z|x)** in the context of variational inference (and the slides), **where z is latents and x is observables**.\n",
    "\n",
    "Task: (10 points)\n",
    "\n",
    "- Implement the encoder class for a variational autoencoder. Note that the encoder should output the Gaussian distribution parameters (mean and variance per feature) of features rather than features themselves."
   ]
  },
  {
   "cell_type": "code",
   "execution_count": 5,
   "metadata": {
    "colab": {},
    "colab_type": "code",
    "id": "V-5xcJAWAFIC"
   },
   "outputs": [
    {
     "data": {
      "text/plain": [
       "'\\nhttps://www.kaggle.com/luyujia/mnist-chainer-cnn#\\ncheck this - https://github.com/musyoku/variational-autoencoder/blob/master/vae_m1.py\\n\\nConvolutional Encoder  - backup\\nconv1 = L.Convolution2D(in_channels=1, out_channels=32, ksize=5),\\nconv2 = L.Convolution2D(in_channels=32, out_channels=64, ksize=5),\\nmean_z = L.Linear(1024, 10),\\nln_var_z = L.Linear(1024, 10),\\n\\n'"
      ]
     },
     "execution_count": 5,
     "metadata": {},
     "output_type": "execute_result"
    }
   ],
   "source": [
    "class Encoder(chainer.ChainList):\n",
    "    def __init__(self): # <= you might want to pass some architecture parameters (e.g., #i/o units, etc.) here\n",
    "        super(Encoder, self).__init__(\n",
    "            # pass your encoder layers here\n",
    "            L.Linear(784, 1024),\n",
    "            L.Linear(1024, 500),\n",
    "            L.Linear(500, 10),\n",
    "            L.Linear(500, 10),\n",
    "        )\n",
    "\n",
    "    def __call__(self, x):\n",
    "        h = F.relu(self[0](x))\n",
    "        h = F.relu(self[1](h))\n",
    "        mean_z = F.softmax(self[-2](h))\n",
    "        ln_var_z = F.softmax(self[-1](h))\n",
    "        \n",
    "        return mean_z, ln_var_z\n",
    "'''\n",
    "https://www.kaggle.com/luyujia/mnist-chainer-cnn#\n",
    "check this - https://github.com/musyoku/variational-autoencoder/blob/master/vae_m1.py\n",
    "\n",
    "Convolutional Encoder  - backup\n",
    "conv1 = L.Convolution2D(in_channels=1, out_channels=32, ksize=5),\n",
    "conv2 = L.Convolution2D(in_channels=32, out_channels=64, ksize=5),\n",
    "mean_z = L.Linear(1024, 10),\n",
    "ln_var_z = L.Linear(1024, 10),\n",
    "\n",
    "'''"
   ]
  },
  {
   "cell_type": "markdown",
   "metadata": {
    "colab_type": "text",
    "id": "8ch2iPFbBWVu"
   },
   "source": [
    "# Loss\n",
    "This is the loss class. The loss of encoder and decoder of a variational autoencoder is the evidence lower bound as follows:\n",
    "\n",
    "$L = D_{KL}(q(z | x), p(z)) -  E_{z\\sim q}[log~p(x | z)]$\n",
    "\n",
    "The first term above is the KL divergence between the approximate posterior (q) and the prior (p), which can be interpreted as a form of regularization. You can assume that the prior is unit Gaussian. It can be implemented with the F.gaussian_kl_divergence function in Chainer.\n",
    "\n",
    "The second term above is the Gaussian negative log likelihood. This is the term that fits the data, which is very similar to the usual loss functions that you use in deep learning. It can be implemented with the F.gaussian_nll function in Chainer.\n",
    "\n",
    "Task: \n",
    "\n",
    "- Implement the loss class. (10 points)\n",
    "\n",
    "\n",
    "As input, it gets the following arguments:\n",
    "\n",
    "mean_z => mean of the encoded features (output of the encoder)  \n",
    "ln_var_z => log variance of the encoded features (output of the encoder)  \n",
    "x => input images (mini batch)  \n",
    "mean_x => mean of the decoded images (output of the decoder)  \n",
    "ln_var_x => mean of the decoded images (output of the decoder)  \n",
    "\n",
    "As output, it gives the loss.\n",
    "\n",
    "- Explain why we use log variance instead of variance. (5 points)\n",
    "\n",
    "**Answer**\n"
   ]
  },
  {
   "cell_type": "code",
   "execution_count": 6,
   "metadata": {},
   "outputs": [
    {
     "data": {
      "text/plain": [
       "'\\n# z_mean and z_stddev are two vectors generated by encoder network\\nlatent_loss = 0.5 * tf.reduce_sum(tf.square(z_mean) + tf.square(z_stddev) - tf.log(tf.square(z_stddev)) - 1,1) \\n'"
      ]
     },
     "execution_count": 6,
     "metadata": {},
     "output_type": "execute_result"
    }
   ],
   "source": [
    "'''\n",
    "# z_mean and z_stddev are two vectors generated by encoder network\n",
    "latent_loss = 0.5 * tf.reduce_sum(tf.square(z_mean) + tf.square(z_stddev) - tf.log(tf.square(z_stddev)) - 1,1) \n",
    "'''"
   ]
  },
  {
   "cell_type": "code",
   "execution_count": 7,
   "metadata": {
    "colab": {},
    "colab_type": "code",
    "id": "iN6gKfG9BWfC"
   },
   "outputs": [],
   "source": [
    "# check this - https://github.com/musyoku/variational-autoencoder/blob/master/vae_m1.py\n",
    "# https://wiseodd.github.io/techblog/2016/12/10/variational-autoencoder/\n",
    "# https://towardsdatascience.com/intuitively-understanding-variational-autoencoders-1bfe67eb5daf\n",
    "class Loss(object):\n",
    "    def __call__(self, mean_z, ln_var_z, x, mean_x, ln_var_x):\n",
    "        # Implement the loss here     \n",
    "        '''\n",
    "        1. KL divergence\n",
    "        F.gaussian_kl_divergence\n",
    "        \n",
    "        𝐷𝐾𝐿(𝑞(𝑧|𝑥),𝑝(𝑧))\n",
    "        \n",
    "        '''\n",
    "        dkl = F.gaussian_kl_divergence(mean_z, ln_var_z)\n",
    "        '''\n",
    "        2. Gaussian negative log likelihood\n",
    "        F.gaussian_nll\n",
    "        \n",
    "        𝐸𝑧∼𝑞[𝑙𝑜𝑔(𝑝(𝑥|𝑧))]\n",
    "        \n",
    "        '''\n",
    "        Gnll = F.gaussian_nll(x, mean_x, ln_var_x)\n",
    "#         print('loss ', dkl, Gnll)\n",
    "        return dkl + Gnll\n",
    "        "
   ]
  },
  {
   "cell_type": "markdown",
   "metadata": {
    "colab_type": "text",
    "id": "wuS4ynBqBYt9"
   },
   "source": [
    "# Model\n",
    "This is the model class. It combines the encoder and the decoder.\n",
    "\n",
    "Task: (20 points)\n",
    "\n",
    "- Implement the reparameterziation trick for sampling latents. (10 points)\n",
    "\n",
    "\n",
    "\n",
    "- Explain why we need to use this trick. (10 points)\n",
    "\n",
    "**The latent loss, which is the KL divergence that measures how closely the latent variables match a unit gaussian. In order to optimize the KL divergence, we need the trick: instead of the encoder generating a vector of real values, it will generate a vector of means and a vector of standard deviations.**"
   ]
  },
  {
   "cell_type": "code",
   "execution_count": 8,
   "metadata": {
    "colab": {},
    "colab_type": "code",
    "id": "kTLyWlw2BY3H"
   },
   "outputs": [],
   "source": [
    "class Model(chainer.Chain):\n",
    "    def __init__(self, decoder, encoder):\n",
    "        super(Model, self).__init__()\n",
    "\n",
    "        with self.init_scope():\n",
    "            self.decoder = decoder\n",
    "            self.encoder = encoder\n",
    "\n",
    "    def __call__(self, x):\n",
    "        mean_z, ln_var_z = self.encoder(x)\n",
    "        \n",
    "        # Sample latents (z) from the Gaussian with parameters ln_var_z, mean_z by using the reparameterization trick\n",
    "        '''\n",
    "        https://www.jeremyjordan.me/variational-autoencoders/\n",
    "        we can just sample from the standard deviations and add the mean, and use that as our latent vector: \n",
    "        samples = tf.random_normal([batchsize,n_z],0,1,dtype=tf.float32)  \n",
    "        sampled_z = z_mean + (z_stddev * samples)\n",
    "        '''\n",
    "        z = Mnp.random.normal(0, 1, 10) if device < 0 else cupy.random.normal(0, 1, 10)\n",
    "#         z = np.random.normal(0, 1, 10)\n",
    "        z = mean_z + (ln_var_z * z)\n",
    "        mean_x, ln_var_x = self.decoder(z)\n",
    "\n",
    "        return mean_z, ln_var_z, x, mean_x, ln_var_x"
   ]
  },
  {
   "cell_type": "markdown",
   "metadata": {
    "colab_type": "text",
    "id": "6UYXDr2-HrrA"
   },
   "source": [
    "This is a helper class to use the Mnist dataset."
   ]
  },
  {
   "cell_type": "code",
   "execution_count": 9,
   "metadata": {
    "colab": {},
    "colab_type": "code",
    "id": "12AV4tiBHo0W"
   },
   "outputs": [],
   "source": [
    "class Mnist(DatasetMixin):\n",
    "    def __init__(self):\n",
    "        self.dataset = datasets.get_mnist(False)[0 if chainer.config.train else 1]\n",
    "\n",
    "    def __len__(self):\n",
    "        return len(self.dataset)\n",
    "\n",
    "    def get_example(self, i):\n",
    "        return self.dataset[i]"
   ]
  },
  {
   "cell_type": "markdown",
   "metadata": {
    "colab_type": "text",
    "id": "tC5HdWquIw7B"
   },
   "source": [
    "Task: (50 points)\n",
    "\n",
    "- Train the above defined variational autoencoder on the Mnist dataset. You can refer to the earlier assignments to implement your training loop. (25 points)\n",
    "\n",
    "- How good are the samples? Randomy sample some digits and visualize them. (10 points)\n",
    "\n",
    "- How good are the reconstructions? Draw an Mnist like digit, encode it, decode it and visualize the digits. How different is the reconstruction from the original. (10 points)\n",
    "\n",
    "- Repeat the last task but by drawing something other than a digit (e.g., a face). How accuracte is the reconstructions? Explain the results. (5 points)"
   ]
  },
  {
   "cell_type": "markdown",
   "metadata": {
    "colab": {},
    "colab_type": "code",
    "id": "I34eP98AIV-j"
   },
   "source": [
    "# Training"
   ]
  },
  {
   "cell_type": "code",
   "execution_count": 10,
   "metadata": {},
   "outputs": [],
   "source": [
    "encoder = Encoder()\n",
    "decoder = Decoder()\n",
    "model = Model(decoder, encoder) if device < 0 else Model(decoder, encoder).to_gpu(device)\n",
    "\n",
    "# optimizer = Adam()\n",
    "optimizer = Adam(alpha=0.001, beta1=0.9, beta2=0.999, eps=1e-08)\n",
    "# optimizer = SGD()\n",
    "# optimizer = RMSprop()\n",
    "\n",
    "optimizer.setup(model)\n",
    "\n",
    "### Prep dataset\n",
    "batch_size = 100\n",
    "training_set = Mnist()\n",
    "training_iterator = SerialIterator(training_set, batch_size, False, True)\n",
    "loss_history = {'training': [], 'validation': []}\n",
    "\n",
    "lossFunc = Loss()\n",
    "\n",
    "epochs_start = 0\n",
    "epochs_end = 20"
   ]
  },
  {
   "cell_type": "code",
   "execution_count": 11,
   "metadata": {},
   "outputs": [
    {
     "name": "stdout",
     "output_type": "stream",
     "text": [
      "Training Started\n",
      ">>> train | epoch = 0 | time= 13.718430519104004 sec | loss= 76398.679453125\n",
      ">>> train | epoch = 1 | time= 12.404607057571411 sec | loss= 76380.04153645833\n",
      ">>> train | epoch = 2 | time= 12.619145154953003 sec | loss= 76376.402109375\n",
      ">>> train | epoch = 3 | time= 12.36348581314087 sec | loss= 76374.48647135416\n",
      ">>> train | epoch = 4 | time= 12.40738582611084 sec | loss= 76373.14684895833\n",
      ">>> train | epoch = 5 | time= 12.34512972831726 sec | loss= 76372.26966145834\n",
      ">>> train | epoch = 6 | time= 12.287835121154785 sec | loss= 76371.54833333334\n",
      ">>> train | epoch = 7 | time= 7.462263345718384 sec | loss= 76370.95669270834\n",
      ">>> train | epoch = 8 | time= 7.441315174102783 sec | loss= 76370.35510416667\n",
      ">>> train | epoch = 9 | time= 7.452392339706421 sec | loss= 76370.00373697917\n",
      ">>> train | epoch = 10 | time= 7.446420431137085 sec | loss= 76369.57631510416\n",
      ">>> train | epoch = 11 | time= 7.445265531539917 sec | loss= 76369.39227864583\n",
      ">>> train | epoch = 12 | time= 7.431126356124878 sec | loss= 76369.00341145834\n",
      ">>> train | epoch = 13 | time= 7.366808176040649 sec | loss= 76368.46127604166\n",
      ">>> train | epoch = 14 | time= 7.4384400844573975 sec | loss= 76367.92822916666\n",
      ">>> train | epoch = 15 | time= 7.5012311935424805 sec | loss= 76367.61098958334\n",
      ">>> train | epoch = 16 | time= 7.442113876342773 sec | loss= 76367.4488671875\n",
      ">>> train | epoch = 17 | time= 7.354519605636597 sec | loss= 76367.1112109375\n",
      ">>> train | epoch = 18 | time= 7.386912822723389 sec | loss= 76366.89467447916\n",
      ">>> train | epoch = 19 | time= 7.062788009643555 sec | loss= 76366.7930078125\n",
      "Training Done\n"
     ]
    }
   ],
   "source": [
    "print(\"Training Started\")\n",
    "for i in range(epochs_start, epochs_end):\n",
    "    epoch = i + 1\n",
    "    loss_history['training'].append(0)\n",
    "    start_time = time.time()\n",
    "    for j, batch in enumerate(training_iterator):\n",
    "        with chainer.using_config('train', True):\n",
    "            x = concat_examples(batch=batch, device=device)\n",
    "            mean_z, ln_var_z, x, mean_x, ln_var_x = model(x)\n",
    "            loss = lossFunc(mean_z, ln_var_z, x, mean_x, ln_var_x)\n",
    "            model.cleargrads()\n",
    "            loss.backward()\n",
    "            optimizer.update()\n",
    "\n",
    "        loss_history['training'][-1] += float(loss.data)\n",
    "#         print('train=',j,' loss=',loss)\n",
    "    loss_history['training'][-1] /= j + 1\n",
    "    print('>>> train | epoch = {} | time= {} sec | loss= {}'.format(i, (time.time() - start_time), \n",
    "                                                        loss_history['training'][-1]))\n",
    "    training_iterator.reset()\n",
    "    if (epochs_end==epoch):\n",
    "        np.savez('{:s}/loss_history_ts_{:s}_{:03d}.npz'.format('Result', train_session, epoch), loss_history)\n",
    "        serializers.save_npz('{:s}/model_ts_{:s}_{:03d}.npz'.format('Result', train_session, epoch), model)\n",
    "        serializers.save_npz('{:s}/optimizer_ts_{:s}_{:03d}.npz'.format('Result', train_session, epoch), optimizer)\n",
    "    else:\n",
    "        np.savez('{:s}/loss_history_ts_{:s}_{:03d}.npz'.format(model_directory, train_session, epoch), loss_history)\n",
    "        serializers.save_npz('{:s}/model_ts_{:s}_{:03d}.npz'.format(model_directory, train_session, epoch), model)\n",
    "        serializers.save_npz('{:s}/optimizer_ts_{:s}_{:03d}.npz'.format(model_directory, train_session, epoch), optimizer)\n",
    "\n",
    "print(\"Training Done\")"
   ]
  },
  {
   "cell_type": "code",
   "execution_count": 12,
   "metadata": {},
   "outputs": [],
   "source": [
    "# print(loss_history['training'])"
   ]
  },
  {
   "cell_type": "code",
   "execution_count": 13,
   "metadata": {},
   "outputs": [
    {
     "data": {
      "text/plain": [
       "[<matplotlib.lines.Line2D at 0x7f2915486710>]"
      ]
     },
     "execution_count": 13,
     "metadata": {},
     "output_type": "execute_result"
    },
    {
     "data": {
      "image/png": "[encoded data removed]",
      "text/plain": [
       "<Figure size 1080x720 with 1 Axes>"
      ]
     },
     "metadata": {
      "needs_background": "light"
     },
     "output_type": "display_data"
    }
   ],
   "source": [
    "fig=plt.figure(figsize=(15, 10))\n",
    "plt.xlabel('Images')\n",
    "plt.ylabel('Loss')\n",
    "plt.plot(loss_history['training'])"
   ]
  },
  {
   "cell_type": "markdown",
   "metadata": {},
   "source": [
    "# Test"
   ]
  },
  {
   "cell_type": "code",
   "execution_count": 14,
   "metadata": {},
   "outputs": [
    {
     "name": "stdout",
     "output_type": "stream",
     "text": [
      "Test Starting...\n",
      "Test Done...\n"
     ]
    }
   ],
   "source": [
    "encoder_T = Encoder()\n",
    "decoder_T = Decoder()\n",
    "model_T = Model(decoder_T, encoder_T) if device < 0 else Model(decoder_T, encoder_T).to_gpu(device)\n",
    "serializers.load_npz('{:s}/model_ts_{:s}_{:03d}.npz'.format('Result', train_session, epochs_end), model_T)\n",
    "\n",
    "lossFunc_T = Loss()\n",
    "\n",
    "batch_size = 100\n",
    "test_set = Mnist()\n",
    "test_iterator = SerialIterator(test_set, batch_size, False, True)\n",
    "\n",
    "test_history = []\n",
    "test_x = []\n",
    "test_mean_x = []\n",
    "test_var_x = []\n",
    "\n",
    "print('Test Starting...')\n",
    "for i in range(1):\n",
    "    epoch = i + 1\n",
    "    \n",
    "    start_time = time.time()\n",
    "    for j, batch in enumerate(test_iterator):\n",
    "        with chainer.using_config('train', False):\n",
    "            x = concat_examples(batch=batch, device=device)\n",
    "            mean_z, ln_var_z, x, mean_x, ln_var_x = model_T(x)\n",
    "            loss = lossFunc_T(mean_z, ln_var_z, x, mean_x, ln_var_x)\n",
    "            test_x.append(x)\n",
    "            test_mean_x.append(mean_x)\n",
    "            test_var_x.append(ln_var_z)\n",
    "\n",
    "        test_history.append(float(loss.data))\n",
    "#         print('test epoch=',epoch,'test batch=',j,' loss=',loss)\n",
    "    np.savez('{:s}/test_loss_history_ts_{:s}_{:03d}.npz'.format('Result', train_session, epoch), test_history)\n",
    "print('Test Done...')\n"
   ]
  },
  {
   "cell_type": "code",
   "execution_count": 15,
   "metadata": {},
   "outputs": [
    {
     "data": {
      "text/plain": [
       "<matplotlib.image.AxesImage at 0x7f28fa5c68d0>"
      ]
     },
     "execution_count": 15,
     "metadata": {},
     "output_type": "execute_result"
    },
    {
     "data": {
      "image/png": "[encoded data removed]",
      "text/plain": [
       "<Figure size 720x720 with 4 Axes>"
      ]
     },
     "metadata": {
      "needs_background": "light"
     },
     "output_type": "display_data"
    }
   ],
   "source": [
    "if device<0:\n",
    "    in_x_1  =      test_x[0][0].reshape(28,28)\n",
    "    out_x_1 = test_mean_x[0][0].data.reshape(28,28)\n",
    "\n",
    "    in_x_2  =      test_x[0][1].reshape(28,28)\n",
    "    out_x_2 = test_mean_x[0][1].data.reshape(28,28)\n",
    "else:\n",
    "    in_x_1  =      test_x[0][0].get().reshape(28,28)\n",
    "    out_x_1 = test_mean_x[0][0].data.get().reshape(28,28)\n",
    "\n",
    "    in_x_2  =      test_x[0][1].get().reshape(28,28)\n",
    "    out_x_2 = test_mean_x[0][1].data.get().reshape(28,28)\n",
    "\n",
    "fig=plt.figure(figsize=(10, 10))\n",
    "\n",
    "plt.subplot(221)\n",
    "plt.title('Input (1)')\n",
    "plt.imshow(in_x_1)\n",
    "\n",
    "plt.subplot(222)\n",
    "plt.title('output (1)')\n",
    "plt.imshow(out_x_1)\n",
    "\n",
    "plt.subplot(223)\n",
    "plt.title('Input (2)')\n",
    "plt.imshow(in_x_2)\n",
    "\n",
    "plt.subplot(224)\n",
    "plt.title('output (2)')\n",
    "plt.imshow(out_x_2)"
   ]
  },
  {
   "cell_type": "markdown",
   "metadata": {
    "colab_type": "text",
    "id": "EzCbq-7SKmBW"
   },
   "source": [
    "Bonus task: Try the same experiments on a different dataset. (20 bonus points)\n",
    "\n",
    "http://ruishu.io/2018/03/14/vae/"
   ]
  },
  {
   "cell_type": "markdown",
   "metadata": {},
   "source": [
    "# Optimizer Eval"
   ]
  },
  {
   "cell_type": "code",
   "execution_count": 19,
   "metadata": {},
   "outputs": [
    {
     "data": {
      "text/plain": [
       "[<matplotlib.lines.Line2D at 0x7f28fa4211d0>]"
      ]
     },
     "execution_count": 19,
     "metadata": {},
     "output_type": "execute_result"
    },
    {
     "data": {
      "image/png": "[encoded data removed]",
      "text/plain": [
       "<Figure size 1080x720 with 1 Axes>"
      ]
     },
     "metadata": {
      "needs_background": "light"
     },
     "output_type": "display_data"
    }
   ],
   "source": [
    "loss_His = np.load('{:s}/loss_history_ts_{:s}_{:03d}.npz'.format('Result', 'SGD', 20))\n",
    "loss_His = loss_His[loss_His.files[0]]\n",
    "loss_His = loss_His.reshape(1,)[0]\n",
    "\n",
    "fig=plt.figure(figsize=(15, 10))\n",
    "plt.xlabel('Epochs')\n",
    "plt.ylabel('Loss')\n",
    "plt.plot(loss_His['training'])"
   ]
  },
  {
   "cell_type": "code",
   "execution_count": 17,
   "metadata": {},
   "outputs": [],
   "source": [
    "# loss_His = np.load('{:s}/loss_history_ts_{:s}_{:03d}.npz'.format('Result', 'SGD', 20))\n",
    "# loss_His = loss_His[loss_His.files[0]]\n",
    "# loss_His = loss_His.reshape(1,)[0]\n",
    "\n",
    "# fig=plt.figure(figsize=(15, 10))\n",
    "# plt.xlabel('Epochs')\n",
    "# plt.ylabel('Loss')\n",
    "# plt.plot(loss_His['training'])"
   ]
  },
  {
   "cell_type": "code",
   "execution_count": 18,
   "metadata": {},
   "outputs": [],
   "source": [
    "# loss_His = np.load('{:s}/loss_history_ts_{:s}_{:03d}.npz'.format('Result', 'RMSprop', 20))\n",
    "# loss_His = loss_His[loss_His.files[0]]\n",
    "# loss_His = loss_His.reshape(1,)[0]\n",
    "\n",
    "# fig=plt.figure(figsize=(15, 10))\n",
    "# plt.xlabel('Epochs')\n",
    "# plt.ylabel('Loss')\n",
    "# plt.plot(loss_His['training'])"
   ]
  }
 ],
 "metadata": {
  "colab": {
   "collapsed_sections": [],
   "name": "weeks_6_and_7",
   "provenance": [],
   "version": "0.3.2"
  },
  "kernelspec": {
   "display_name": "Python 3",
   "language": "python",
   "name": "python3"
  },
  "language_info": {
   "codemirror_mode": {
    "name": "ipython",
    "version": 3
   },
   "file_extension": ".py",
   "mimetype": "text/x-python",
   "name": "python",
   "nbconvert_exporter": "python",
   "pygments_lexer": "ipython3",
   "version": "3.6.6"
  }
 },
 "nbformat": 4,
 "nbformat_minor": 1
}
