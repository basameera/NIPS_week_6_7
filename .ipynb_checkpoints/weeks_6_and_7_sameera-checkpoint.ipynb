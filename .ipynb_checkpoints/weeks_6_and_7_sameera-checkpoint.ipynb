{
 "cells": [
  {
   "cell_type": "markdown",
   "metadata": {
    "colab_type": "text",
    "id": "CGc6Y5_eKaPD"
   },
   "source": [
    "**SOW-MKI49: Neural Information Processing Systems**  \n",
    "*Weeks 6 and 7: Assignment (100 points + 20 bonus points)  \n",
    "Author: Luca and Umut"
   ]
  },
  {
   "cell_type": "markdown",
   "metadata": {
    "colab": {},
    "colab_type": "code",
    "id": "cBlzrHdoKzvY"
   },
   "source": [
    "# Group number: 17\n",
    "\n",
    "1. Sameera Sandaruwan, s1014012\n",
    "2. Mohit Jethwani, s1019474"
   ]
  },
  {
   "cell_type": "markdown",
   "metadata": {},
   "source": [
    "# Notes\n",
    "---\n",
    "http://kvfrans.com/variational-autoencoders-explained/\n",
    "\n",
    "However, there were a couple of downsides to using a plain GAN.\n",
    "\n",
    "First, the images are generated off some arbitrary noise. If you wanted to generate a picture with specific features, there's no way of determining which initial noise values would produce that picture, other than searching over the entire distribution.\n",
    "\n",
    "Second, a generative adversarial model only discriminates between \"real\" and \"fake\" images. There's no constraints that an image of a cat has to look like a cat. This leads to results where there's no actual object in a generated image, but the style just looks like picture.\n",
    "\n",
    "In this post, I'll go over the variational autoencoder, a type of network that solves these two problems.\n",
    "\n",
    "The more efficiently we can encode the original image, the higher we can raise the standard deviation on our gaussian until it reaches one.\n",
    "\n",
    "https://github.com/chainer/chainer/blob/master/examples/vae/net.py\n",
    "\n",
    "https://github.com/musyoku/variational-autoencoder/blob/master/vae_m1.py\n",
    "\n",
    "---\n",
    "## To Do\n",
    "\n",
    "1. Search Variational autoencoder\n",
    "2. Search Variational inference\n",
    "3. Find Input and Output dimensions of dataset: \n",
    "Depends on our Network architecture. Network can be Convolutional (input is 28x28, output 1x10) or Linear (input is 1x784, output 1x10)\n",
    "4. Check the architecture\n",
    "5. How the loss function work here\n",
    "6. figure out the architecture and what (X, Y, Z) are\n",
    "7. Unit gaussian distribution\n",
    "\n",
    "sdf"
   ]
  },
  {
   "cell_type": "code",
   "execution_count": 1,
   "metadata": {
    "colab": {},
    "colab_type": "code",
    "id": "Gz0FZAwiJ-al"
   },
   "outputs": [],
   "source": [
    "from chainer import cuda, datasets, serializers\n",
    "from chainer.dataset import DatasetMixin, concat_examples\n",
    "from chainer.iterators import MultithreadIterator\n",
    "from chainer.iterators import SerialIterator\n",
    "from chainer.optimizers import Adam, SGD, RMSprop\n",
    "import chainer\n",
    "import chainer.functions as F\n",
    "import chainer.links as L\n",
    "import cupy\n",
    "import numpy as np\n",
    "import tqdm\n",
    "import time\n",
    "\n",
    "model_directory = 'Model'\n",
    "train_session = 'ADAM_100'\n",
    "device = 0\n",
    "\n",
    "# optimizer = Adam()\n",
    "optimizer = Adam(alpha=0.001, beta1=0.9, beta2=0.999, eps=1e-08)\n",
    "# optimizer = SGD(lr=1e-3)\n",
    "# optimizer = RMSprop()"
   ]
  },
  {
   "cell_type": "code",
   "execution_count": 2,
   "metadata": {},
   "outputs": [],
   "source": [
    "import matplotlib.pyplot as plt\n",
    "%matplotlib inline"
   ]
  },
  {
   "cell_type": "markdown",
   "metadata": {
    "colab_type": "text",
    "id": "ckO0T0SLAFf7"
   },
   "source": [
    "# Decoder\n",
    "This is the decoder class. It transforms **latents (features) to observables (images)**. It corresponds to p(x | z) in the context of **variational inference** (and the slides), **where x is observables and y is latents.**\n",
    "\n",
    "Task: (10 points)\n",
    "\n",
    "- Implement the decoder class for a **variational autoencoder**. Note that the **decoder** should output the **Gaussian distribution parameters (mean and variance per pixel)** of images rather than images themselves."
   ]
  },
  {
   "cell_type": "code",
   "execution_count": 3,
   "metadata": {
    "colab": {},
    "colab_type": "code",
    "id": "ew8VZCkl-FdE"
   },
   "outputs": [],
   "source": [
    "class Decoder(chainer.ChainList):\n",
    "    def __init__(self): # <= you might want to pass some architecture parameters (e.g., #i/o units, etc.) here\n",
    "        super(Decoder, self).__init__(\n",
    "            # pass your decoder layers here\n",
    "            L.Linear(10, 500),\n",
    "            \n",
    "            L.Linear(500, 1024),\n",
    "            L.Linear(1024, 1024),\n",
    "            \n",
    "            L.Linear(1024, 784),\n",
    "            L.Linear(1024, 784),\n",
    "        )\n",
    "\n",
    "    def __call__(self, x):\n",
    "        h = F.relu(self[0](x))\n",
    "        h = F.relu(self[1](h))\n",
    "        h = F.relu(self[2](h))\n",
    "        mean_x = F.softmax(self[-2](h))\n",
    "        ln_var_x = F.softmax(self[-1](h))\n",
    "        \n",
    "        return mean_x, ln_var_x"
   ]
  },
  {
   "cell_type": "markdown",
   "metadata": {
    "colab_type": "text",
    "id": "d36RjWO6AKqO"
   },
   "source": [
    "# Encoder\n",
    "This is the encoder class. It transforms **observables (images) to latents (features)**. It corresponds to **q(z|x)** in the context of variational inference (and the slides), **where z is latents and x is observables**.\n",
    "\n",
    "Task: (10 points)\n",
    "\n",
    "- Implement the encoder class for a variational autoencoder. Note that the encoder should output the Gaussian distribution parameters (mean and variance per feature) of features rather than features themselves."
   ]
  },
  {
   "cell_type": "code",
   "execution_count": 4,
   "metadata": {
    "colab": {},
    "colab_type": "code",
    "id": "V-5xcJAWAFIC"
   },
   "outputs": [
    {
     "data": {
      "text/plain": [
       "'\\nhttps://www.kaggle.com/luyujia/mnist-chainer-cnn#\\ncheck this - https://github.com/musyoku/variational-autoencoder/blob/master/vae_m1.py\\n\\nConvolutional Encoder  - backup\\nconv1 = L.Convolution2D(in_channels=1, out_channels=32, ksize=5),\\nconv2 = L.Convolution2D(in_channels=32, out_channels=64, ksize=5),\\nmean_z = L.Linear(1024, 10),\\nln_var_z = L.Linear(1024, 10),\\n\\n'"
      ]
     },
     "execution_count": 4,
     "metadata": {},
     "output_type": "execute_result"
    }
   ],
   "source": [
    "class Encoder(chainer.ChainList):\n",
    "    def __init__(self): # <= you might want to pass some architecture parameters (e.g., #i/o units, etc.) here\n",
    "        super(Encoder, self).__init__(\n",
    "            # pass your encoder layers here\n",
    "            L.Linear(784, 1024),\n",
    "            \n",
    "            L.Linear(1024, 1024),\n",
    "            L.Linear(1024, 500),\n",
    "            \n",
    "            L.Linear(500, 10),\n",
    "            L.Linear(500, 10),\n",
    "        )\n",
    "\n",
    "    def __call__(self, x):\n",
    "        h = F.relu(self[0](x))\n",
    "        h = F.relu(self[1](h))\n",
    "        h = F.relu(self[2](h))\n",
    "        mean_z = self[-2](h)\n",
    "        ln_var_z = self[-1](h)\n",
    "        \n",
    "        return mean_z, ln_var_z\n",
    "'''\n",
    "https://www.kaggle.com/luyujia/mnist-chainer-cnn#\n",
    "check this - https://github.com/musyoku/variational-autoencoder/blob/master/vae_m1.py\n",
    "\n",
    "Convolutional Encoder  - backup\n",
    "conv1 = L.Convolution2D(in_channels=1, out_channels=32, ksize=5),\n",
    "conv2 = L.Convolution2D(in_channels=32, out_channels=64, ksize=5),\n",
    "mean_z = L.Linear(1024, 10),\n",
    "ln_var_z = L.Linear(1024, 10),\n",
    "\n",
    "'''"
   ]
  },
  {
   "cell_type": "markdown",
   "metadata": {
    "colab_type": "text",
    "id": "8ch2iPFbBWVu"
   },
   "source": [
    "# Loss\n",
    "This is the loss class. The loss of encoder and decoder of a variational autoencoder is the evidence lower bound as follows:\n",
    "\n",
    "$L = D_{KL}(q(z | x), p(z)) -  E_{z\\sim q}[log~p(x | z)]$\n",
    "\n",
    "The first term above is the KL divergence between the approximate posterior (q) and the prior (p), which can be interpreted as a form of regularization. You can assume that the prior is unit Gaussian. It can be implemented with the F.gaussian_kl_divergence function in Chainer.\n",
    "\n",
    "The second term above is the Gaussian negative log likelihood. This is the term that fits the data, which is very similar to the usual loss functions that you use in deep learning. It can be implemented with the F.gaussian_nll function in Chainer.\n",
    "\n",
    "Task: \n",
    "\n",
    "- Implement the loss class. (10 points)\n",
    "\n",
    "\n",
    "As input, it gets the following arguments:\n",
    "\n",
    "mean_z => mean of the encoded features (output of the encoder)  \n",
    "ln_var_z => log variance of the encoded features (output of the encoder)  \n",
    "x => input images (mini batch)  \n",
    "mean_x => mean of the decoded images (output of the decoder)  \n",
    "ln_var_x => mean of the decoded images (output of the decoder)  \n",
    "\n",
    "As output, it gives the loss.\n",
    "\n",
    "- Explain why we use log variance instead of variance. (5 points)\n",
    "\n",
    "**Answer**\n"
   ]
  },
  {
   "cell_type": "code",
   "execution_count": 5,
   "metadata": {},
   "outputs": [
    {
     "data": {
      "text/plain": [
       "'\\n# z_mean and z_stddev are two vectors generated by encoder network\\nlatent_loss = 0.5 * tf.reduce_sum(tf.square(z_mean) + tf.square(z_stddev) - tf.log(tf.square(z_stddev)) - 1,1) \\n'"
      ]
     },
     "execution_count": 5,
     "metadata": {},
     "output_type": "execute_result"
    }
   ],
   "source": [
    "'''\n",
    "# z_mean and z_stddev are two vectors generated by encoder network\n",
    "latent_loss = 0.5 * tf.reduce_sum(tf.square(z_mean) + tf.square(z_stddev) - tf.log(tf.square(z_stddev)) - 1,1) \n",
    "'''"
   ]
  },
  {
   "cell_type": "code",
   "execution_count": 5,
   "metadata": {
    "colab": {},
    "colab_type": "code",
    "id": "iN6gKfG9BWfC"
   },
   "outputs": [],
   "source": [
    "# check this - https://github.com/musyoku/variational-autoencoder/blob/master/vae_m1.py\n",
    "# https://wiseodd.github.io/techblog/2016/12/10/variational-autoencoder/\n",
    "# https://towardsdatascience.com/intuitively-understanding-variational-autoencoders-1bfe67eb5daf\n",
    "class Loss(object):\n",
    "    def __call__(self, mean_z, ln_var_z, x, mean_x, ln_var_x):\n",
    "        # Implement the loss here     \n",
    "        '''\n",
    "        1. KL divergence\n",
    "        F.gaussian_kl_divergence\n",
    "        \n",
    "        𝐷𝐾𝐿(𝑞(𝑧|𝑥),𝑝(𝑧))\n",
    "        \n",
    "        '''\n",
    "        dkl = F.gaussian_kl_divergence(mean_z, ln_var_z)\n",
    "        '''\n",
    "        2. Gaussian negative log likelihood\n",
    "        F.gaussian_nll\n",
    "        \n",
    "        𝐸𝑧∼𝑞[𝑙𝑜𝑔(𝑝(𝑥|𝑧))]\n",
    "        \n",
    "        '''\n",
    "        Gnll = F.gaussian_nll(x, mean_x, ln_var_x)\n",
    "#         print('loss ', dkl, Gnll)\n",
    "        return dkl + Gnll\n",
    "        "
   ]
  },
  {
   "cell_type": "markdown",
   "metadata": {
    "colab_type": "text",
    "id": "wuS4ynBqBYt9"
   },
   "source": [
    "# Model\n",
    "This is the model class. It combines the encoder and the decoder.\n",
    "\n",
    "Task: (20 points)\n",
    "\n",
    "- Implement the reparameterziation trick for sampling latents. (10 points)\n",
    "\n",
    "\n",
    "\n",
    "- Explain why we need to use this trick. (10 points)\n",
    "\n",
    "**The latent loss, which is the KL divergence that measures how closely the latent variables match a unit gaussian. In order to optimize the KL divergence, we need the trick: instead of the encoder generating a vector of real values, it will generate a vector of means and a vector of standard deviations.**"
   ]
  },
  {
   "cell_type": "code",
   "execution_count": 6,
   "metadata": {
    "colab": {},
    "colab_type": "code",
    "id": "kTLyWlw2BY3H"
   },
   "outputs": [],
   "source": [
    "class Model(chainer.Chain):\n",
    "    def __init__(self, decoder, encoder):\n",
    "        super(Model, self).__init__()\n",
    "\n",
    "        with self.init_scope():\n",
    "            self.decoder = decoder\n",
    "            self.encoder = encoder\n",
    "\n",
    "    def __call__(self, x):\n",
    "        mean_z, ln_var_z = self.encoder(x)\n",
    "        \n",
    "        # Sample latents (z) from the Gaussian with parameters ln_var_z, mean_z by using the reparameterization trick\n",
    "        '''\n",
    "        https://www.jeremyjordan.me/variational-autoencoders/\n",
    "        we can just sample from the standard deviations and add the mean, and use that as our latent vector: \n",
    "        samples = tf.random_normal([batchsize,n_z],0,1,dtype=tf.float32)  \n",
    "        sampled_z = z_mean + (z_stddev * samples)\n",
    "        '''\n",
    "        z = np.random.normal(0, 1, 10) if device < 0 else cupy.random.normal(0, 1, 10)\n",
    "#         print(ln_var_z)\n",
    "        stddev_z = np.sqrt(ln_var_z) if device < 0 else np.sqrt(ln_var_z.data.get())\n",
    "        if device == 0:\n",
    "            stddev_z = cupy.asarray(stddev_z)\n",
    "#         print(stddev_z)\n",
    "        z = mean_z + (ln_var_z * z)\n",
    "        mean_x, ln_var_x = self.decoder(z)\n",
    "\n",
    "        return mean_z, ln_var_z, x, mean_x, ln_var_x"
   ]
  },
  {
   "cell_type": "markdown",
   "metadata": {
    "colab_type": "text",
    "id": "6UYXDr2-HrrA"
   },
   "source": [
    "This is a helper class to use the Mnist dataset."
   ]
  },
  {
   "cell_type": "code",
   "execution_count": 7,
   "metadata": {
    "colab": {},
    "colab_type": "code",
    "id": "12AV4tiBHo0W"
   },
   "outputs": [],
   "source": [
    "class Mnist(DatasetMixin):\n",
    "    def __init__(self):\n",
    "        self.dataset = datasets.get_mnist(False)[0 if chainer.config.train else 1]\n",
    "\n",
    "    def __len__(self):\n",
    "        return len(self.dataset)\n",
    "\n",
    "    def get_example(self, i):\n",
    "        return self.dataset[i]"
   ]
  },
  {
   "cell_type": "markdown",
   "metadata": {
    "colab_type": "text",
    "id": "tC5HdWquIw7B"
   },
   "source": [
    "Task: (50 points)\n",
    "\n",
    "- Train the above defined variational autoencoder on the Mnist dataset. You can refer to the earlier assignments to implement your training loop. (25 points)\n",
    "\n",
    "- How good are the samples? Randomy sample some digits and visualize them. (10 points)\n",
    "\n",
    "- How good are the reconstructions? Draw an Mnist like digit, encode it, decode it and visualize the digits. How different is the reconstruction from the original. (10 points)\n",
    "\n",
    "- Repeat the last task but by drawing something other than a digit (e.g., a face). How accuracte is the reconstructions? Explain the results. (5 points)"
   ]
  },
  {
   "cell_type": "markdown",
   "metadata": {
    "colab": {},
    "colab_type": "code",
    "id": "I34eP98AIV-j"
   },
   "source": [
    "# Training"
   ]
  },
  {
   "cell_type": "code",
   "execution_count": 8,
   "metadata": {},
   "outputs": [],
   "source": [
    "encoder = Encoder()\n",
    "decoder = Decoder()\n",
    "model = Model(decoder, encoder) if device < 0 else Model(decoder, encoder).to_gpu(device)\n",
    "\n",
    "optimizer.setup(model)\n",
    "\n",
    "### Prep dataset\n",
    "batch_size = 100\n",
    "training_set = Mnist()\n",
    "training_iterator = SerialIterator(training_set, batch_size, False, True)\n",
    "loss_history = {'training': [], 'validation': []}\n",
    "\n",
    "lossFunc = Loss()\n",
    "\n",
    "epochs_start = 0\n",
    "epochs_end = 100"
   ]
  },
  {
   "cell_type": "code",
   "execution_count": 10,
   "metadata": {},
   "outputs": [
    {
     "name": "stdout",
     "output_type": "stream",
     "text": [
      "Training Started\n"
     ]
    },
    {
     "name": "stderr",
     "output_type": "stream",
     "text": [
      "/home/sameera/anaconda3/envs/NIPS/lib/python3.6/site-packages/ipykernel_launcher.py:21: RuntimeWarning: invalid value encountered in sqrt\n"
     ]
    },
    {
     "name": "stdout",
     "output_type": "stream",
     "text": [
      ">>> train | epoch = 0 | time= 10.040664196014404 sec | loss= 76380.86584635417\n",
      ">>> train | epoch = 1 | time= 8.055435180664062 sec | loss= 76366.01225260417\n",
      ">>> train | epoch = 2 | time= 8.038763046264648 sec | loss= 76361.6991796875\n",
      ">>> train | epoch = 3 | time= 10.619808912277222 sec | loss= 76358.80063802084\n",
      ">>> train | epoch = 4 | time= 10.544224739074707 sec | loss= 76357.04944010417\n",
      ">>> train | epoch = 5 | time= 8.279929876327515 sec | loss= 76355.87223958333\n",
      ">>> train | epoch = 6 | time= 8.0580153465271 sec | loss= 76354.7480859375\n",
      ">>> train | epoch = 7 | time= 10.318510293960571 sec | loss= 76353.95135416667\n",
      ">>> train | epoch = 8 | time= 10.365249872207642 sec | loss= 76353.53895833333\n",
      ">>> train | epoch = 9 | time= 10.87803316116333 sec | loss= 76353.10690104167\n",
      ">>> train | epoch = 10 | time= 8.525885820388794 sec | loss= 76352.10953125\n",
      ">>> train | epoch = 11 | time= 11.128168106079102 sec | loss= 76352.033671875\n",
      ">>> train | epoch = 12 | time= 11.13048791885376 sec | loss= 76351.49919270833\n",
      ">>> train | epoch = 13 | time= 10.588587284088135 sec | loss= 76351.41111979166\n",
      ">>> train | epoch = 14 | time= 10.589146375656128 sec | loss= 76351.1999609375\n",
      ">>> train | epoch = 15 | time= 8.06975269317627 sec | loss= 76350.94305989583\n",
      ">>> train | epoch = 16 | time= 8.03885555267334 sec | loss= 76350.8464453125\n",
      ">>> train | epoch = 17 | time= 8.06398630142212 sec | loss= 76350.66087239583\n",
      ">>> train | epoch = 18 | time= 8.06261920928955 sec | loss= 76350.65858072917\n",
      ">>> train | epoch = 19 | time= 8.094516277313232 sec | loss= 76350.2978125\n",
      ">>> train | epoch = 20 | time= 12.314541578292847 sec | loss= 76350.36290364583\n",
      ">>> train | epoch = 21 | time= 11.934011936187744 sec | loss= 76350.00640625\n",
      ">>> train | epoch = 22 | time= 11.387839317321777 sec | loss= 76349.93755208333\n",
      ">>> train | epoch = 23 | time= 11.074042797088623 sec | loss= 76349.88145833333\n",
      ">>> train | epoch = 24 | time= 10.859747886657715 sec | loss= 76349.57151041667\n",
      ">>> train | epoch = 25 | time= 10.64933443069458 sec | loss= 76349.5984765625\n",
      ">>> train | epoch = 26 | time= 10.762793779373169 sec | loss= 76349.68725260417\n",
      ">>> train | epoch = 27 | time= 11.270459651947021 sec | loss= 76349.43328125\n",
      ">>> train | epoch = 28 | time= 11.447173118591309 sec | loss= 76349.55919270833\n",
      ">>> train | epoch = 29 | time= 10.991834163665771 sec | loss= 76349.28328125\n",
      ">>> train | epoch = 30 | time= 10.933913707733154 sec | loss= 76349.17040364584\n",
      ">>> train | epoch = 31 | time= 10.732000589370728 sec | loss= 76349.30048177083\n",
      ">>> train | epoch = 32 | time= 10.976815462112427 sec | loss= 76349.11135416667\n",
      ">>> train | epoch = 33 | time= 10.568314552307129 sec | loss= 76349.1455859375\n",
      ">>> train | epoch = 34 | time= 10.68183946609497 sec | loss= 76349.07169270833\n",
      ">>> train | epoch = 35 | time= 11.285498142242432 sec | loss= 76348.99361979167\n",
      ">>> train | epoch = 36 | time= 11.102977275848389 sec | loss= 76348.8321484375\n",
      ">>> train | epoch = 37 | time= 10.409046173095703 sec | loss= 76348.94442708333\n",
      ">>> train | epoch = 38 | time= 10.88545536994934 sec | loss= 76348.694140625\n",
      ">>> train | epoch = 39 | time= 10.985615730285645 sec | loss= 76348.72162760417\n",
      ">>> train | epoch = 40 | time= 10.592121124267578 sec | loss= 76348.73733072917\n",
      ">>> train | epoch = 41 | time= 10.629303693771362 sec | loss= 76348.51838541667\n",
      ">>> train | epoch = 42 | time= 10.606343746185303 sec | loss= 76348.66850260417\n",
      ">>> train | epoch = 43 | time= 9.433048009872437 sec | loss= 76348.55748697916\n",
      ">>> train | epoch = 44 | time= 9.4648118019104 sec | loss= 76348.4694921875\n",
      ">>> train | epoch = 45 | time= 9.502289533615112 sec | loss= 76348.52932291667\n",
      ">>> train | epoch = 46 | time= 8.162692785263062 sec | loss= 76348.34421875\n",
      ">>> train | epoch = 47 | time= 8.227524518966675 sec | loss= 76348.63048177083\n",
      ">>> train | epoch = 48 | time= 8.954899072647095 sec | loss= 76348.36001302084\n",
      ">>> train | epoch = 49 | time= 9.605375051498413 sec | loss= 76348.207421875\n",
      ">>> train | epoch = 50 | time= 11.168386220932007 sec | loss= 76348.2594921875\n",
      ">>> train | epoch = 51 | time= 11.079232931137085 sec | loss= 76348.36428385417\n",
      ">>> train | epoch = 52 | time= 11.108179807662964 sec | loss= 76348.30666666667\n",
      ">>> train | epoch = 53 | time= 11.24850583076477 sec | loss= 76348.24020833333\n",
      ">>> train | epoch = 54 | time= 10.896552085876465 sec | loss= 76348.113359375\n",
      ">>> train | epoch = 55 | time= 11.12076473236084 sec | loss= 76348.20104166666\n",
      ">>> train | epoch = 56 | time= 12.179479837417603 sec | loss= 76348.29649739583\n",
      ">>> train | epoch = 57 | time= 10.65464448928833 sec | loss= 76348.020390625\n",
      ">>> train | epoch = 58 | time= 11.521619081497192 sec | loss= 76348.01873697917\n",
      ">>> train | epoch = 59 | time= 11.656968832015991 sec | loss= 76348.0871484375\n",
      ">>> train | epoch = 60 | time= 11.215214967727661 sec | loss= 76348.032890625\n",
      ">>> train | epoch = 61 | time= 8.743142366409302 sec | loss= 76347.9052734375\n",
      ">>> train | epoch = 62 | time= 8.603358507156372 sec | loss= 76347.978828125\n",
      ">>> train | epoch = 63 | time= 8.4482581615448 sec | loss= 76348.016640625\n",
      ">>> train | epoch = 64 | time= 8.130694389343262 sec | loss= 76347.8051953125\n",
      ">>> train | epoch = 65 | time= 9.140697956085205 sec | loss= 76347.7879296875\n",
      ">>> train | epoch = 66 | time= 8.903236627578735 sec | loss= 76348.048671875\n",
      ">>> train | epoch = 67 | time= 9.107062339782715 sec | loss= 76347.74739583333\n",
      ">>> train | epoch = 68 | time= 8.893412590026855 sec | loss= 76347.88546875\n",
      ">>> train | epoch = 69 | time= 8.378362894058228 sec | loss= 76347.80985677084\n",
      ">>> train | epoch = 70 | time= 8.01888370513916 sec | loss= 76347.6550390625\n",
      ">>> train | epoch = 71 | time= 8.261402130126953 sec | loss= 76347.68412760417\n",
      ">>> train | epoch = 72 | time= 10.455623388290405 sec | loss= 76347.68438802083\n",
      ">>> train | epoch = 73 | time= 10.525007247924805 sec | loss= 76347.94325520833\n",
      ">>> train | epoch = 74 | time= 11.024555444717407 sec | loss= 76347.64270833334\n",
      ">>> train | epoch = 75 | time= 11.746384620666504 sec | loss= 76347.7171875\n",
      ">>> train | epoch = 76 | time= 10.741001844406128 sec | loss= 76347.65127604167\n",
      ">>> train | epoch = 77 | time= 10.575936317443848 sec | loss= 76347.67205729167\n",
      ">>> train | epoch = 78 | time= 10.39524793624878 sec | loss= 76347.60420572916\n",
      ">>> train | epoch = 79 | time= 10.511188745498657 sec | loss= 76347.561953125\n",
      ">>> train | epoch = 80 | time= 10.766151905059814 sec | loss= 76347.49713541666\n",
      ">>> train | epoch = 81 | time= 10.426654577255249 sec | loss= 76347.514765625\n",
      ">>> train | epoch = 82 | time= 10.819552421569824 sec | loss= 76347.41614583334\n",
      ">>> train | epoch = 83 | time= 10.5819251537323 sec | loss= 76347.9260546875\n",
      ">>> train | epoch = 84 | time= 10.58445692062378 sec | loss= 76347.4108203125\n",
      ">>> train | epoch = 85 | time= 10.467709302902222 sec | loss= 76347.53130208333\n",
      ">>> train | epoch = 86 | time= 10.649471521377563 sec | loss= 76347.371484375\n",
      ">>> train | epoch = 87 | time= 10.452415943145752 sec | loss= 76347.62791666666\n",
      ">>> train | epoch = 88 | time= 10.770004987716675 sec | loss= 76347.62950520833\n",
      ">>> train | epoch = 89 | time= 10.505110740661621 sec | loss= 76347.35438802083\n",
      ">>> train | epoch = 90 | time= 10.537914514541626 sec | loss= 76347.23477864583\n",
      ">>> train | epoch = 91 | time= 10.79440951347351 sec | loss= 76347.46729166666\n",
      ">>> train | epoch = 92 | time= 10.579633235931396 sec | loss= 76347.5046875\n",
      ">>> train | epoch = 93 | time= 10.549372434616089 sec | loss= 76347.4762890625\n",
      ">>> train | epoch = 94 | time= 10.236220121383667 sec | loss= 76347.5076953125\n",
      ">>> train | epoch = 95 | time= 10.12839961051941 sec | loss= 76347.4873046875\n",
      ">>> train | epoch = 96 | time= 10.565712690353394 sec | loss= 76347.3074609375\n",
      ">>> train | epoch = 97 | time= 10.684748649597168 sec | loss= 76347.66927083333\n",
      ">>> train | epoch = 98 | time= 10.801087141036987 sec | loss= 76347.4631640625\n",
      ">>> train | epoch = 99 | time= 10.245479106903076 sec | loss= 76347.194609375\n",
      "Training Done\n"
     ]
    }
   ],
   "source": [
    "print(\"Training Started\")\n",
    "for i in range(epochs_start, epochs_end):\n",
    "    epoch = i + 1\n",
    "    loss_history['training'].append(0)\n",
    "    start_time = time.time()\n",
    "    for j, batch in enumerate(training_iterator):\n",
    "        with chainer.using_config('train', True):\n",
    "            x = concat_examples(batch=batch, device=device)\n",
    "            mean_z, ln_var_z, x, mean_x, ln_var_x = model(x)\n",
    "            loss = lossFunc(mean_z, ln_var_z, x, mean_x, ln_var_x)\n",
    "            model.cleargrads()\n",
    "            loss.backward()\n",
    "            optimizer.update()\n",
    "\n",
    "        loss_history['training'][-1] += float(loss.data)\n",
    "#         print('train=',j,' loss=',loss)\n",
    "    loss_history['training'][-1] /= j + 1\n",
    "    print('>>> train | epoch = {} | time= {} sec | loss= {}'.format(i, (time.time() - start_time), \n",
    "                                                        loss_history['training'][-1]))\n",
    "    training_iterator.reset()\n",
    "    if (epochs_end==epoch):\n",
    "        np.savez('{:s}/loss_history_ts_{:s}_{:03d}.npz'.format('Result', train_session, epoch), loss_history)\n",
    "        serializers.save_npz('{:s}/model_ts_{:s}_{:03d}.npz'.format('Result', train_session, epoch), model)\n",
    "        serializers.save_npz('{:s}/optimizer_ts_{:s}_{:03d}.npz'.format('Result', train_session, epoch), optimizer)\n",
    "    else:\n",
    "        np.savez('{:s}/loss_history_ts_{:s}_{:03d}.npz'.format(model_directory, train_session, epoch), loss_history)\n",
    "        serializers.save_npz('{:s}/model_ts_{:s}_{:03d}.npz'.format(model_directory, train_session, epoch), model)\n",
    "        serializers.save_npz('{:s}/optimizer_ts_{:s}_{:03d}.npz'.format(model_directory, train_session, epoch), optimizer)\n",
    "\n",
    "print(\"Training Done\")"
   ]
  },
  {
   "cell_type": "code",
   "execution_count": 11,
   "metadata": {},
   "outputs": [],
   "source": [
    "# print(loss_history['training'])"
   ]
  },
  {
   "cell_type": "code",
   "execution_count": 12,
   "metadata": {},
   "outputs": [
    {
     "data": {
      "text/plain": [
       "[<matplotlib.lines.Line2D at 0x7f0d2d13e390>]"
      ]
     },
     "execution_count": 12,
     "metadata": {},
     "output_type": "execute_result"
    },
    {
     "data": {
      "image/png": "[encoded data removed]",
      "text/plain": [
       "<Figure size 1080x720 with 1 Axes>"
      ]
     },
     "metadata": {
      "needs_background": "light"
     },
     "output_type": "display_data"
    }
   ],
   "source": [
    "fig=plt.figure(figsize=(15, 10))\n",
    "plt.xlabel('Epochs')\n",
    "plt.ylabel('Loss')\n",
    "plt.plot(loss_history['training'])"
   ]
  },
  {
   "cell_type": "markdown",
   "metadata": {},
   "source": [
    "# Test"
   ]
  },
  {
   "cell_type": "code",
   "execution_count": null,
   "metadata": {},
   "outputs": [
    {
     "name": "stdout",
     "output_type": "stream",
     "text": [
      "Test Starting...\n"
     ]
    },
    {
     "name": "stderr",
     "output_type": "stream",
     "text": [
      "/home/sameera/anaconda3/envs/NIPS/lib/python3.6/site-packages/ipykernel_launcher.py:21: RuntimeWarning: invalid value encountered in sqrt\n"
     ]
    }
   ],
   "source": [
    "# encoder_T = Encoder()\n",
    "# decoder_T = Decoder()\n",
    "# model_T = Model(decoder_T, encoder_T) if device < 0 else Model(decoder_T, encoder_T).to_gpu(device)\n",
    "# serializers.load_npz('{:s}/model_ts_{:s}_{:03d}.npz'.format('Result', train_session, epochs_end), model_T)\n",
    "# lossFunc_T = Loss()\n",
    "\n",
    "batch_size = 1\n",
    "test_set = Mnist()\n",
    "test_iterator = SerialIterator(test_set, batch_size, False, True)\n",
    "\n",
    "test_history = []\n",
    "test_x = []\n",
    "test_mean_x = []\n",
    "test_var_x = []\n",
    "\n",
    "print('Test Starting...')\n",
    "for i in range(1):\n",
    "    epoch = i + 1\n",
    "    \n",
    "    start_time = time.time()\n",
    "    for j, batch in enumerate(test_iterator):\n",
    "        with chainer.using_config('train', False):\n",
    "            x = concat_examples(batch=batch, device=device)\n",
    "            mean_z, ln_var_z, x, mean_x, ln_var_x = model(x)\n",
    "            loss = lossFunc(mean_z, ln_var_z, x, mean_x, ln_var_x)\n",
    "            test_x.append(x)\n",
    "            test_mean_x.append(mean_x)\n",
    "            test_var_x.append(ln_var_z)\n",
    "\n",
    "        test_history.append(float(loss.data))\n",
    "#         print('test epoch=',epoch,'test batch=',j,' loss=',loss)\n",
    "    np.savez('{:s}/test_loss_history_ts_{:s}_{:03d}.npz'.format('Result', train_session, epoch), test_history)\n",
    "print('Test Done...')\n"
   ]
  },
  {
   "cell_type": "code",
   "execution_count": 9,
   "metadata": {},
   "outputs": [
    {
     "ename": "NameError",
     "evalue": "name 'plt' is not defined",
     "output_type": "error",
     "traceback": [
      "\u001b[0;31m---------------------------------------------------------------------------\u001b[0m",
      "\u001b[0;31mNameError\u001b[0m                                 Traceback (most recent call last)",
      "\u001b[0;32m<ipython-input-9-2ba52b910c75>\u001b[0m in \u001b[0;36m<module>\u001b[0;34m()\u001b[0m\n\u001b[1;32m     12\u001b[0m     \u001b[0mout_x_2\u001b[0m \u001b[0;34m=\u001b[0m \u001b[0mtest_mean_x\u001b[0m\u001b[0;34m[\u001b[0m\u001b[0;36m0\u001b[0m\u001b[0;34m]\u001b[0m\u001b[0;34m[\u001b[0m\u001b[0;36m1\u001b[0m\u001b[0;34m]\u001b[0m\u001b[0;34m.\u001b[0m\u001b[0mdata\u001b[0m\u001b[0;34m.\u001b[0m\u001b[0mget\u001b[0m\u001b[0;34m(\u001b[0m\u001b[0;34m)\u001b[0m\u001b[0;34m.\u001b[0m\u001b[0mreshape\u001b[0m\u001b[0;34m(\u001b[0m\u001b[0;36m28\u001b[0m\u001b[0;34m,\u001b[0m\u001b[0;36m28\u001b[0m\u001b[0;34m)\u001b[0m\u001b[0;34m\u001b[0m\u001b[0m\n\u001b[1;32m     13\u001b[0m \u001b[0;34m\u001b[0m\u001b[0m\n\u001b[0;32m---> 14\u001b[0;31m \u001b[0mfig\u001b[0m\u001b[0;34m=\u001b[0m\u001b[0mplt\u001b[0m\u001b[0;34m.\u001b[0m\u001b[0mfigure\u001b[0m\u001b[0;34m(\u001b[0m\u001b[0mfigsize\u001b[0m\u001b[0;34m=\u001b[0m\u001b[0;34m(\u001b[0m\u001b[0;36m10\u001b[0m\u001b[0;34m,\u001b[0m \u001b[0;36m10\u001b[0m\u001b[0;34m)\u001b[0m\u001b[0;34m)\u001b[0m\u001b[0;34m\u001b[0m\u001b[0m\n\u001b[0m\u001b[1;32m     15\u001b[0m \u001b[0;34m\u001b[0m\u001b[0m\n\u001b[1;32m     16\u001b[0m \u001b[0mplt\u001b[0m\u001b[0;34m.\u001b[0m\u001b[0msubplot\u001b[0m\u001b[0;34m(\u001b[0m\u001b[0;36m221\u001b[0m\u001b[0;34m)\u001b[0m\u001b[0;34m\u001b[0m\u001b[0m\n",
      "\u001b[0;31mNameError\u001b[0m: name 'plt' is not defined"
     ]
    }
   ],
   "source": [
    "if device<0:\n",
    "    in_x_1  =      test_x[0][0].reshape(28,28)\n",
    "    out_x_1 = test_mean_x[0][0].data.reshape(28,28)\n",
    "\n",
    "    in_x_2  =      test_x[0][1].reshape(28,28)\n",
    "    out_x_2 = test_mean_x[0][1].data.reshape(28,28)\n",
    "else:\n",
    "    in_x_1  =      test_x[0][0].get().reshape(28,28)\n",
    "    out_x_1 = test_mean_x[0][0].data.get().reshape(28,28)\n",
    "\n",
    "    in_x_2  =      test_x[0][1].get().reshape(28,28)\n",
    "    out_x_2 = test_mean_x[0][1].data.get().reshape(28,28)\n",
    "\n",
    "fig=plt.figure(figsize=(10, 10))\n",
    "\n",
    "plt.subplot(221)\n",
    "plt.title('Input (1)')\n",
    "plt.imshow(in_x_1)\n",
    "\n",
    "plt.subplot(222)\n",
    "plt.title('output (1)')\n",
    "plt.imshow(out_x_1)\n",
    "\n",
    "plt.subplot(223)\n",
    "plt.title('Input (2)')\n",
    "plt.imshow(in_x_2)\n",
    "\n",
    "plt.subplot(224)\n",
    "plt.title('output (2)')\n",
    "plt.imshow(out_x_2)"
   ]
  },
  {
   "cell_type": "markdown",
   "metadata": {
    "colab_type": "text",
    "id": "EzCbq-7SKmBW"
   },
   "source": [
    "Bonus task: Try the same experiments on a different dataset. (20 bonus points)\n",
    "\n",
    "http://ruishu.io/2018/03/14/vae/"
   ]
  },
  {
   "cell_type": "markdown",
   "metadata": {},
   "source": [
    "# Optimizer Eval"
   ]
  },
  {
   "cell_type": "code",
   "execution_count": null,
   "metadata": {},
   "outputs": [],
   "source": [
    "loss_His = np.load('{:s}/loss_history_ts_{:s}_{:03d}.npz'.format('Result', 'Adam', 20))\n",
    "loss_His = loss_His[loss_His.files[0]]\n",
    "loss_His = loss_His.reshape(1,)[0]\n",
    "\n",
    "fig=plt.figure(figsize=(15, 10))\n",
    "plt.xlabel('Epochs')\n",
    "plt.ylabel('Loss')\n",
    "plt.plot(loss_His['training'])\n",
    "\n",
    "print(loss_His['training'][-1])"
   ]
  },
  {
   "cell_type": "code",
   "execution_count": null,
   "metadata": {},
   "outputs": [],
   "source": [
    "loss_His = np.load('{:s}/loss_history_ts_{:s}_{:03d}.npz'.format('Result', 'SGD', 20))\n",
    "loss_His = loss_His[loss_His.files[0]]\n",
    "loss_His = loss_His.reshape(1,)[0]\n",
    "\n",
    "fig=plt.figure(figsize=(15, 10))\n",
    "plt.xlabel('Epochs')\n",
    "plt.ylabel('Loss')\n",
    "plt.plot(loss_His['training'])\n",
    "\n",
    "print(loss_His['training'][-1])"
   ]
  },
  {
   "cell_type": "code",
   "execution_count": null,
   "metadata": {},
   "outputs": [],
   "source": [
    "loss_His = np.load('{:s}/loss_history_ts_{:s}_{:03d}.npz'.format('Result', 'RMSprop', 20))\n",
    "loss_His = loss_His[loss_His.files[0]]\n",
    "loss_His = loss_His.reshape(1,)[0]\n",
    "\n",
    "fig=plt.figure(figsize=(15, 10))\n",
    "plt.xlabel('Epochs')\n",
    "plt.ylabel('Loss')\n",
    "plt.plot(loss_His['training'])\n",
    "\n",
    "print(loss_His['training'][-1])"
   ]
  }
 ],
 "metadata": {
  "colab": {
   "collapsed_sections": [],
   "name": "weeks_6_and_7",
   "provenance": [],
   "version": "0.3.2"
  },
  "kernelspec": {
   "display_name": "Python 3",
   "language": "python",
   "name": "python3"
  },
  "language_info": {
   "codemirror_mode": {
    "name": "ipython",
    "version": 3
   },
   "file_extension": ".py",
   "mimetype": "text/x-python",
   "name": "python",
   "nbconvert_exporter": "python",
   "pygments_lexer": "ipython3",
   "version": "3.6.6"
  }
 },
 "nbformat": 4,
 "nbformat_minor": 1
}
