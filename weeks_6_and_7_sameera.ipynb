{
 "cells": [
  {
   "cell_type": "markdown",
   "metadata": {
    "colab_type": "text",
    "id": "CGc6Y5_eKaPD"
   },
   "source": [
    "**SOW-MKI49: Neural Information Processing Systems**  \n",
    "*Weeks 6 and 7: Assignment (100 points + 20 bonus points)  \n",
    "Author: Luca and Umut"
   ]
  },
  {
   "cell_type": "markdown",
   "metadata": {
    "colab": {},
    "colab_type": "code",
    "id": "cBlzrHdoKzvY"
   },
   "source": [
    "# Group number: 17\n",
    "\n",
    "1. Sameera Sandaruwan, s1014012\n",
    "2. Mohit Jethwani, s1019474"
   ]
  },
  {
   "cell_type": "markdown",
   "metadata": {},
   "source": [
    "# Notes\n",
    "---\n",
    "http://kvfrans.com/variational-autoencoders-explained/\n",
    "\n",
    "However, there were a couple of downsides to using a plain GAN.\n",
    "\n",
    "First, the images are generated off some arbitrary noise. If you wanted to generate a picture with specific features, there's no way of determining which initial noise values would produce that picture, other than searching over the entire distribution.\n",
    "\n",
    "Second, a generative adversarial model only discriminates between \"real\" and \"fake\" images. There's no constraints that an image of a cat has to look like a cat. This leads to results where there's no actual object in a generated image, but the style just looks like picture.\n",
    "\n",
    "In this post, I'll go over the variational autoencoder, a type of network that solves these two problems.\n",
    "\n",
    "The more efficiently we can encode the original image, the higher we can raise the standard deviation on our gaussian until it reaches one.\n",
    "\n",
    "https://github.com/chainer/chainer/blob/master/examples/vae/net.py\n",
    "\n",
    "https://github.com/musyoku/variational-autoencoder/blob/master/vae_m1.py\n",
    "\n",
    "---\n",
    "## To Do\n",
    "\n",
    "1. Search Variational autoencoder\n",
    "2. Search Variational inference\n",
    "3. Find Input and Output dimensions of dataset: \n",
    "Depends on our Network architecture. Network can be Convolutional (input is 28x28, output 1x10) or Linear (input is 1x784, output 1x10)\n",
    "4. Check the architecture\n",
    "5. How the loss function work here\n",
    "6. figure out the architecture and what (X, Y, Z) are\n",
    "7. Unit gaussian distribution\n",
    "\n",
    "sdf"
   ]
  },
  {
   "cell_type": "code",
   "execution_count": 1,
   "metadata": {
    "colab": {},
    "colab_type": "code",
    "id": "Gz0FZAwiJ-al"
   },
   "outputs": [],
   "source": [
    "from chainer import cuda, datasets, serializers\n",
    "from chainer.dataset import DatasetMixin, concat_examples\n",
    "from chainer.iterators import MultithreadIterator\n",
    "from chainer.iterators import SerialIterator\n",
    "from chainer.optimizers import Adam, SGD, RMSprop\n",
    "import chainer\n",
    "import chainer.functions as F\n",
    "import chainer.links as L\n",
    "import cupy\n",
    "import numpy as np\n",
    "import tqdm\n",
    "import time\n",
    "\n",
    "model_directory = 'Model'\n",
    "train_session = 'SGD_100'\n",
    "device = 0\n",
    "\n",
    "# optimizer = Adam()\n",
    "# optimizer = Adam(alpha=0.001, beta1=0.9, beta2=0.999, eps=1e-08)\n",
    "optimizer = SGD(lr=1e-3)\n",
    "# optimizer = RMSprop()"
   ]
  },
  {
   "cell_type": "code",
   "execution_count": 2,
   "metadata": {},
   "outputs": [],
   "source": [
    "import matplotlib.pyplot as plt\n",
    "%matplotlib inline"
   ]
  },
  {
   "cell_type": "markdown",
   "metadata": {
    "colab_type": "text",
    "id": "ckO0T0SLAFf7"
   },
   "source": [
    "# Decoder\n",
    "This is the decoder class. It transforms **latents (features) to observables (images)**. It corresponds to p(x | z) in the context of **variational inference** (and the slides), **where x is observables and y is latents.**\n",
    "\n",
    "Task: (10 points)\n",
    "\n",
    "- Implement the decoder class for a **variational autoencoder**. Note that the **decoder** should output the **Gaussian distribution parameters (mean and variance per pixel)** of images rather than images themselves."
   ]
  },
  {
   "cell_type": "code",
   "execution_count": 3,
   "metadata": {
    "colab": {},
    "colab_type": "code",
    "id": "ew8VZCkl-FdE"
   },
   "outputs": [],
   "source": [
    "class Decoder(chainer.ChainList):\n",
    "    def __init__(self): # <= you might want to pass some architecture parameters (e.g., #i/o units, etc.) here\n",
    "        super(Decoder, self).__init__(\n",
    "            # pass your decoder layers here\n",
    "            L.Linear(10, 500),\n",
    "            \n",
    "            L.Linear(500, 1024),\n",
    "            L.Linear(1024, 1024),\n",
    "            \n",
    "            L.Linear(1024, 784),\n",
    "            L.Linear(1024, 784),\n",
    "        )\n",
    "\n",
    "    def __call__(self, x):\n",
    "        h = F.relu(self[0](x))\n",
    "        h = F.relu(self[1](h))\n",
    "        h = F.relu(self[2](h))\n",
    "        mean_x = F.softmax(self[-2](h))\n",
    "        ln_var_x = F.softmax(self[-1](h))\n",
    "        \n",
    "        return mean_x, ln_var_x"
   ]
  },
  {
   "cell_type": "markdown",
   "metadata": {
    "colab_type": "text",
    "id": "d36RjWO6AKqO"
   },
   "source": [
    "# Encoder\n",
    "This is the encoder class. It transforms **observables (images) to latents (features)**. It corresponds to **q(z|x)** in the context of variational inference (and the slides), **where z is latents and x is observables**.\n",
    "\n",
    "Task: (10 points)\n",
    "\n",
    "- Implement the encoder class for a variational autoencoder. Note that the encoder should output the Gaussian distribution parameters (mean and variance per feature) of features rather than features themselves."
   ]
  },
  {
   "cell_type": "code",
   "execution_count": 4,
   "metadata": {
    "colab": {},
    "colab_type": "code",
    "id": "V-5xcJAWAFIC"
   },
   "outputs": [
    {
     "data": {
      "text/plain": [
       "'\\nhttps://www.kaggle.com/luyujia/mnist-chainer-cnn#\\ncheck this - https://github.com/musyoku/variational-autoencoder/blob/master/vae_m1.py\\n\\nConvolutional Encoder  - backup\\nconv1 = L.Convolution2D(in_channels=1, out_channels=32, ksize=5),\\nconv2 = L.Convolution2D(in_channels=32, out_channels=64, ksize=5),\\nmean_z = L.Linear(1024, 10),\\nln_var_z = L.Linear(1024, 10),\\n\\n'"
      ]
     },
     "execution_count": 4,
     "metadata": {},
     "output_type": "execute_result"
    }
   ],
   "source": [
    "class Encoder(chainer.ChainList):\n",
    "    def __init__(self): # <= you might want to pass some architecture parameters (e.g., #i/o units, etc.) here\n",
    "        super(Encoder, self).__init__(\n",
    "            # pass your encoder layers here\n",
    "            L.Linear(784, 1024),\n",
    "            \n",
    "            L.Linear(1024, 1024),\n",
    "            L.Linear(1024, 500),\n",
    "            \n",
    "            L.Linear(500, 10),\n",
    "            L.Linear(500, 10),\n",
    "        )\n",
    "\n",
    "    def __call__(self, x):\n",
    "        h = F.relu(self[0](x))\n",
    "        h = F.relu(self[1](h))\n",
    "        h = F.relu(self[2](h))\n",
    "        mean_z = self[-2](h)\n",
    "        ln_var_z = self[-1](h)\n",
    "        \n",
    "        return mean_z, ln_var_z\n",
    "'''\n",
    "https://www.kaggle.com/luyujia/mnist-chainer-cnn#\n",
    "check this - https://github.com/musyoku/variational-autoencoder/blob/master/vae_m1.py\n",
    "\n",
    "Convolutional Encoder  - backup\n",
    "conv1 = L.Convolution2D(in_channels=1, out_channels=32, ksize=5),\n",
    "conv2 = L.Convolution2D(in_channels=32, out_channels=64, ksize=5),\n",
    "mean_z = L.Linear(1024, 10),\n",
    "ln_var_z = L.Linear(1024, 10),\n",
    "\n",
    "'''"
   ]
  },
  {
   "cell_type": "markdown",
   "metadata": {
    "colab_type": "text",
    "id": "8ch2iPFbBWVu"
   },
   "source": [
    "# Loss\n",
    "This is the loss class. The loss of encoder and decoder of a variational autoencoder is the evidence lower bound as follows:\n",
    "\n",
    "$L = D_{KL}(q(z | x), p(z)) -  E_{z\\sim q}[log~p(x | z)]$\n",
    "\n",
    "The first term above is the KL divergence between the approximate posterior (q) and the prior (p), which can be interpreted as a form of regularization. You can assume that the prior is unit Gaussian. It can be implemented with the F.gaussian_kl_divergence function in Chainer.\n",
    "\n",
    "The second term above is the Gaussian negative log likelihood. This is the term that fits the data, which is very similar to the usual loss functions that you use in deep learning. It can be implemented with the F.gaussian_nll function in Chainer.\n",
    "\n",
    "Task: \n",
    "\n",
    "- Implement the loss class. (10 points)\n",
    "\n",
    "\n",
    "As input, it gets the following arguments:\n",
    "\n",
    "mean_z => mean of the encoded features (output of the encoder)  \n",
    "ln_var_z => log variance of the encoded features (output of the encoder)  \n",
    "x => input images (mini batch)  \n",
    "mean_x => mean of the decoded images (output of the decoder)  \n",
    "ln_var_x => mean of the decoded images (output of the decoder)  \n",
    "\n",
    "As output, it gives the loss.\n",
    "\n",
    "- Explain why we use log variance instead of variance. (5 points)\n",
    "\n",
    "**Answer**\n"
   ]
  },
  {
   "cell_type": "code",
   "execution_count": 5,
   "metadata": {},
   "outputs": [
    {
     "data": {
      "text/plain": [
       "'\\n# z_mean and z_stddev are two vectors generated by encoder network\\nlatent_loss = 0.5 * tf.reduce_sum(tf.square(z_mean) + tf.square(z_stddev) - tf.log(tf.square(z_stddev)) - 1,1) \\n'"
      ]
     },
     "execution_count": 5,
     "metadata": {},
     "output_type": "execute_result"
    }
   ],
   "source": [
    "'''\n",
    "# z_mean and z_stddev are two vectors generated by encoder network\n",
    "latent_loss = 0.5 * tf.reduce_sum(tf.square(z_mean) + tf.square(z_stddev) - tf.log(tf.square(z_stddev)) - 1,1) \n",
    "'''"
   ]
  },
  {
   "cell_type": "code",
   "execution_count": 6,
   "metadata": {
    "colab": {},
    "colab_type": "code",
    "id": "iN6gKfG9BWfC"
   },
   "outputs": [],
   "source": [
    "# check this - https://github.com/musyoku/variational-autoencoder/blob/master/vae_m1.py\n",
    "# https://wiseodd.github.io/techblog/2016/12/10/variational-autoencoder/\n",
    "# https://towardsdatascience.com/intuitively-understanding-variational-autoencoders-1bfe67eb5daf\n",
    "class Loss(object):\n",
    "    def __call__(self, mean_z, ln_var_z, x, mean_x, ln_var_x):\n",
    "        # Implement the loss here     \n",
    "        '''\n",
    "        1. KL divergence\n",
    "        F.gaussian_kl_divergence\n",
    "        \n",
    "        𝐷𝐾𝐿(𝑞(𝑧|𝑥),𝑝(𝑧))\n",
    "        \n",
    "        '''\n",
    "        dkl = F.gaussian_kl_divergence(mean_z, ln_var_z)\n",
    "        '''\n",
    "        2. Gaussian negative log likelihood\n",
    "        F.gaussian_nll\n",
    "        \n",
    "        𝐸𝑧∼𝑞[𝑙𝑜𝑔(𝑝(𝑥|𝑧))]\n",
    "        \n",
    "        '''\n",
    "        Gnll = F.gaussian_nll(x, mean_x, ln_var_x)\n",
    "#         print('loss ', dkl, Gnll)\n",
    "        return dkl + Gnll\n",
    "        "
   ]
  },
  {
   "cell_type": "markdown",
   "metadata": {
    "colab_type": "text",
    "id": "wuS4ynBqBYt9"
   },
   "source": [
    "# Model\n",
    "This is the model class. It combines the encoder and the decoder.\n",
    "\n",
    "Task: (20 points)\n",
    "\n",
    "- Implement the reparameterziation trick for sampling latents. (10 points)\n",
    "\n",
    "\n",
    "\n",
    "- Explain why we need to use this trick. (10 points)\n",
    "\n",
    "**The latent loss, which is the KL divergence that measures how closely the latent variables match a unit gaussian. In order to optimize the KL divergence, we need the trick: instead of the encoder generating a vector of real values, it will generate a vector of means and a vector of standard deviations.**"
   ]
  },
  {
   "cell_type": "code",
   "execution_count": 7,
   "metadata": {
    "colab": {},
    "colab_type": "code",
    "id": "kTLyWlw2BY3H"
   },
   "outputs": [],
   "source": [
    "class Model(chainer.Chain):\n",
    "    def __init__(self, decoder, encoder):\n",
    "        super(Model, self).__init__()\n",
    "\n",
    "        with self.init_scope():\n",
    "            self.decoder = decoder\n",
    "            self.encoder = encoder\n",
    "\n",
    "    def __call__(self, x):\n",
    "        mean_z, ln_var_z = self.encoder(x)\n",
    "        \n",
    "        # Sample latents (z) from the Gaussian with parameters ln_var_z, mean_z by using the reparameterization trick\n",
    "        '''\n",
    "        https://www.jeremyjordan.me/variational-autoencoders/\n",
    "        we can just sample from the standard deviations and add the mean, and use that as our latent vector: \n",
    "        samples = tf.random_normal([batchsize,n_z],0,1,dtype=tf.float32)  \n",
    "        sampled_z = z_mean + (z_stddev * samples)\n",
    "        '''\n",
    "        z = np.random.normal(0, 1, 10) if device < 0 else cupy.random.normal(0, 1, 10)\n",
    "#         print(ln_var_z)\n",
    "        stddev_z = np.sqrt(ln_var_z) if device < 0 else np.sqrt(ln_var_z.data.get())\n",
    "        if device == 0:\n",
    "            stddev_z = cupy.asarray(stddev_z)\n",
    "#         print(stddev_z)\n",
    "        z = mean_z + (ln_var_z * z)\n",
    "        mean_x, ln_var_x = self.decoder(z)\n",
    "\n",
    "        return mean_z, ln_var_z, x, mean_x, ln_var_x"
   ]
  },
  {
   "cell_type": "markdown",
   "metadata": {
    "colab_type": "text",
    "id": "6UYXDr2-HrrA"
   },
   "source": [
    "This is a helper class to use the Mnist dataset."
   ]
  },
  {
   "cell_type": "code",
   "execution_count": 8,
   "metadata": {
    "colab": {},
    "colab_type": "code",
    "id": "12AV4tiBHo0W"
   },
   "outputs": [],
   "source": [
    "class Mnist(DatasetMixin):\n",
    "    def __init__(self):\n",
    "        self.dataset = datasets.get_mnist(False)[0 if chainer.config.train else 1]\n",
    "\n",
    "    def __len__(self):\n",
    "        return len(self.dataset)\n",
    "\n",
    "    def get_example(self, i):\n",
    "        return self.dataset[i]"
   ]
  },
  {
   "cell_type": "markdown",
   "metadata": {
    "colab_type": "text",
    "id": "tC5HdWquIw7B"
   },
   "source": [
    "Task: (50 points)\n",
    "\n",
    "- Train the above defined variational autoencoder on the Mnist dataset. You can refer to the earlier assignments to implement your training loop. (25 points)\n",
    "\n",
    "- How good are the samples? Randomy sample some digits and visualize them. (10 points)\n",
    "\n",
    "- How good are the reconstructions? Draw an Mnist like digit, encode it, decode it and visualize the digits. How different is the reconstruction from the original. (10 points)\n",
    "\n",
    "- Repeat the last task but by drawing something other than a digit (e.g., a face). How accuracte is the reconstructions? Explain the results. (5 points)"
   ]
  },
  {
   "cell_type": "markdown",
   "metadata": {
    "colab": {},
    "colab_type": "code",
    "id": "I34eP98AIV-j"
   },
   "source": [
    "# Training"
   ]
  },
  {
   "cell_type": "code",
   "execution_count": 9,
   "metadata": {},
   "outputs": [],
   "source": [
    "encoder = Encoder()\n",
    "decoder = Decoder()\n",
    "model = Model(decoder, encoder) if device < 0 else Model(decoder, encoder).to_gpu(device)\n",
    "\n",
    "optimizer.setup(model)\n",
    "\n",
    "### Prep dataset\n",
    "batch_size = 100\n",
    "training_set = Mnist()\n",
    "training_iterator = SerialIterator(training_set, batch_size, False, True)\n",
    "loss_history = {'training': [], 'validation': []}\n",
    "\n",
    "lossFunc = Loss()\n",
    "\n",
    "epochs_start = 0\n",
    "epochs_end = 200"
   ]
  },
  {
   "cell_type": "code",
   "execution_count": 10,
   "metadata": {},
   "outputs": [
    {
     "name": "stdout",
     "output_type": "stream",
     "text": [
      "Training Started\n"
     ]
    },
    {
     "name": "stderr",
     "output_type": "stream",
     "text": [
      "/home/sameera/anaconda3/envs/NIPS/lib/python3.6/site-packages/ipykernel_launcher.py:21: RuntimeWarning: invalid value encountered in sqrt\n"
     ]
    },
    {
     "name": "stdout",
     "output_type": "stream",
     "text": [
      ">>> train | epoch = 0 | time= 9.510371685028076 sec | loss= 76466.89373697917\n",
      ">>> train | epoch = 1 | time= 8.444828510284424 sec | loss= 76465.96811197916\n",
      ">>> train | epoch = 2 | time= 8.248878002166748 sec | loss= 76458.9746484375\n",
      ">>> train | epoch = 3 | time= 8.395458936691284 sec | loss= 76412.73369791667\n",
      ">>> train | epoch = 4 | time= 8.239900350570679 sec | loss= 76402.782421875\n",
      ">>> train | epoch = 5 | time= 7.3423895835876465 sec | loss= 76395.39763020833\n",
      ">>> train | epoch = 6 | time= 7.324109077453613 sec | loss= 76390.4605859375\n",
      ">>> train | epoch = 7 | time= 7.360623598098755 sec | loss= 76389.48438802084\n",
      ">>> train | epoch = 8 | time= 7.227728843688965 sec | loss= 76388.18203125\n",
      ">>> train | epoch = 9 | time= 7.173591375350952 sec | loss= 76387.42026041666\n",
      ">>> train | epoch = 10 | time= 8.108259916305542 sec | loss= 76386.74930989584\n",
      ">>> train | epoch = 11 | time= 7.164846897125244 sec | loss= 76386.7241796875\n",
      ">>> train | epoch = 12 | time= 7.329987287521362 sec | loss= 76385.80169270834\n",
      ">>> train | epoch = 13 | time= 7.320497274398804 sec | loss= 76385.644765625\n",
      ">>> train | epoch = 14 | time= 7.332167863845825 sec | loss= 76384.9496875\n",
      ">>> train | epoch = 15 | time= 7.330886602401733 sec | loss= 76384.91197916666\n",
      ">>> train | epoch = 16 | time= 7.32433009147644 sec | loss= 76384.408515625\n",
      ">>> train | epoch = 17 | time= 7.336640119552612 sec | loss= 76384.19294270834\n",
      ">>> train | epoch = 18 | time= 7.1226301193237305 sec | loss= 76384.16063802084\n",
      ">>> train | epoch = 19 | time= 7.113842010498047 sec | loss= 76383.49897135417\n",
      ">>> train | epoch = 20 | time= 7.323683023452759 sec | loss= 76383.42186197916\n",
      ">>> train | epoch = 21 | time= 7.476442813873291 sec | loss= 76382.64848958333\n",
      ">>> train | epoch = 22 | time= 7.640376567840576 sec | loss= 76382.20384114583\n",
      ">>> train | epoch = 23 | time= 7.640369653701782 sec | loss= 76382.14216145834\n",
      ">>> train | epoch = 24 | time= 7.531901836395264 sec | loss= 76381.5199609375\n",
      ">>> train | epoch = 25 | time= 7.5851500034332275 sec | loss= 76381.5050390625\n",
      ">>> train | epoch = 26 | time= 7.73209810256958 sec | loss= 76381.27078125\n",
      ">>> train | epoch = 27 | time= 7.7255964279174805 sec | loss= 76380.92489583333\n",
      ">>> train | epoch = 28 | time= 8.99291467666626 sec | loss= 76380.56587239583\n",
      ">>> train | epoch = 29 | time= 11.170063972473145 sec | loss= 76380.29743489584\n",
      ">>> train | epoch = 30 | time= 11.036499261856079 sec | loss= 76380.28772135417\n",
      ">>> train | epoch = 31 | time= 10.086974859237671 sec | loss= 76380.13266927084\n",
      ">>> train | epoch = 32 | time= 10.618878364562988 sec | loss= 76379.99484375\n",
      ">>> train | epoch = 33 | time= 9.85886001586914 sec | loss= 76379.2538671875\n",
      ">>> train | epoch = 34 | time= 10.854405403137207 sec | loss= 76379.40654947917\n",
      ">>> train | epoch = 35 | time= 10.897164106369019 sec | loss= 76379.74154947916\n",
      ">>> train | epoch = 36 | time= 9.917078018188477 sec | loss= 76378.98572916667\n",
      ">>> train | epoch = 37 | time= 9.69150161743164 sec | loss= 76379.42139322916\n",
      ">>> train | epoch = 38 | time= 9.98509168624878 sec | loss= 76378.37634114583\n",
      ">>> train | epoch = 39 | time= 9.780206441879272 sec | loss= 76378.8696484375\n",
      ">>> train | epoch = 40 | time= 9.778291463851929 sec | loss= 76378.64364583333\n",
      ">>> train | epoch = 41 | time= 9.760161638259888 sec | loss= 76378.99063802083\n",
      ">>> train | epoch = 42 | time= 9.862417221069336 sec | loss= 76378.10763020834\n",
      ">>> train | epoch = 43 | time= 9.789073467254639 sec | loss= 76378.44024739583\n",
      ">>> train | epoch = 44 | time= 9.734222412109375 sec | loss= 76378.487890625\n",
      ">>> train | epoch = 45 | time= 10.714720964431763 sec | loss= 76377.82140625\n",
      ">>> train | epoch = 46 | time= 10.230520725250244 sec | loss= 76377.87953125\n",
      ">>> train | epoch = 47 | time= 9.862653255462646 sec | loss= 76377.82701822916\n",
      ">>> train | epoch = 48 | time= 10.102010726928711 sec | loss= 76377.78755208333\n",
      ">>> train | epoch = 49 | time= 10.615448713302612 sec | loss= 76377.44841145833\n",
      ">>> train | epoch = 50 | time= 9.983164548873901 sec | loss= 76377.4676171875\n",
      ">>> train | epoch = 51 | time= 9.936758518218994 sec | loss= 76378.13563802083\n",
      ">>> train | epoch = 52 | time= 9.793707370758057 sec | loss= 76377.35890625\n",
      ">>> train | epoch = 53 | time= 10.064977884292603 sec | loss= 76376.998984375\n",
      ">>> train | epoch = 54 | time= 10.506150007247925 sec | loss= 76376.90611979166\n",
      ">>> train | epoch = 55 | time= 10.631557703018188 sec | loss= 76377.23365885417\n",
      ">>> train | epoch = 56 | time= 10.341708660125732 sec | loss= 76376.7921875\n",
      ">>> train | epoch = 57 | time= 9.52278733253479 sec | loss= 76376.91638020833\n",
      ">>> train | epoch = 58 | time= 9.652604818344116 sec | loss= 76376.6491015625\n",
      ">>> train | epoch = 59 | time= 9.694918632507324 sec | loss= 76377.13854166666\n",
      ">>> train | epoch = 60 | time= 9.731581687927246 sec | loss= 76376.41662760417\n",
      ">>> train | epoch = 61 | time= 9.733815670013428 sec | loss= 76377.20450520833\n",
      ">>> train | epoch = 62 | time= 9.954363346099854 sec | loss= 76377.00518229167\n",
      ">>> train | epoch = 63 | time= 9.707570552825928 sec | loss= 76376.0159375\n",
      ">>> train | epoch = 64 | time= 9.83694577217102 sec | loss= 76376.56264322916\n",
      ">>> train | epoch = 65 | time= 9.706653356552124 sec | loss= 76376.32671875\n",
      ">>> train | epoch = 66 | time= 9.687440872192383 sec | loss= 76376.51141927083\n",
      ">>> train | epoch = 67 | time= 9.705044507980347 sec | loss= 76376.44635416666\n",
      ">>> train | epoch = 68 | time= 9.702781677246094 sec | loss= 76376.79520833334\n",
      ">>> train | epoch = 69 | time= 8.429266452789307 sec | loss= 76376.44372395833\n",
      ">>> train | epoch = 70 | time= 9.820963621139526 sec | loss= 76376.16890625\n",
      ">>> train | epoch = 71 | time= 9.711089134216309 sec | loss= 76375.74854166666\n",
      ">>> train | epoch = 72 | time= 9.814136028289795 sec | loss= 76375.78634114584\n",
      ">>> train | epoch = 73 | time= 9.725480318069458 sec | loss= 76375.8847265625\n",
      ">>> train | epoch = 74 | time= 9.746870517730713 sec | loss= 76376.66473958333\n",
      ">>> train | epoch = 75 | time= 9.734804630279541 sec | loss= 76375.7058203125\n",
      ">>> train | epoch = 76 | time= 9.444735050201416 sec | loss= 76375.40467447917\n",
      ">>> train | epoch = 77 | time= 9.68726634979248 sec | loss= 76376.050234375\n",
      ">>> train | epoch = 78 | time= 9.735823392868042 sec | loss= 76376.09432291667\n",
      ">>> train | epoch = 79 | time= 9.735365152359009 sec | loss= 76375.0268359375\n",
      ">>> train | epoch = 80 | time= 9.765749454498291 sec | loss= 76375.39140625\n",
      ">>> train | epoch = 81 | time= 9.751485586166382 sec | loss= 76375.80259114584\n",
      ">>> train | epoch = 82 | time= 9.773068904876709 sec | loss= 76375.7415234375\n",
      ">>> train | epoch = 83 | time= 9.759037256240845 sec | loss= 76375.50317708333\n",
      ">>> train | epoch = 84 | time= 9.788875579833984 sec | loss= 76375.4548046875\n",
      ">>> train | epoch = 85 | time= 9.76436471939087 sec | loss= 76375.38098958334\n",
      ">>> train | epoch = 86 | time= 9.766950368881226 sec | loss= 76374.9380078125\n",
      ">>> train | epoch = 87 | time= 8.76400113105774 sec | loss= 76375.83244791666\n",
      ">>> train | epoch = 88 | time= 8.41867208480835 sec | loss= 76375.460078125\n",
      ">>> train | epoch = 89 | time= 8.420395612716675 sec | loss= 76375.07161458333\n",
      ">>> train | epoch = 90 | time= 8.416398525238037 sec | loss= 76375.4937109375\n",
      ">>> train | epoch = 91 | time= 8.406211614608765 sec | loss= 76375.55264322917\n",
      ">>> train | epoch = 92 | time= 8.399963140487671 sec | loss= 76375.37239583333\n",
      ">>> train | epoch = 93 | time= 8.426006078720093 sec | loss= 76374.96354166667\n",
      ">>> train | epoch = 94 | time= 8.407110691070557 sec | loss= 76374.95858072917\n",
      ">>> train | epoch = 95 | time= 8.416958808898926 sec | loss= 76375.43016927084\n",
      ">>> train | epoch = 96 | time= 8.408464431762695 sec | loss= 76374.79572916667\n",
      ">>> train | epoch = 97 | time= 8.405297994613647 sec | loss= 76374.91735677083\n",
      ">>> train | epoch = 98 | time= 8.389079093933105 sec | loss= 76374.47555989583\n",
      ">>> train | epoch = 99 | time= 8.409032106399536 sec | loss= 76374.77412760416\n",
      ">>> train | epoch = 100 | time= 8.413653373718262 sec | loss= 76374.77315104166\n",
      ">>> train | epoch = 101 | time= 8.39817476272583 sec | loss= 76374.98692708333\n",
      ">>> train | epoch = 102 | time= 8.37959361076355 sec | loss= 76374.41326822917\n",
      ">>> train | epoch = 103 | time= 8.39112663269043 sec | loss= 76374.995078125\n",
      ">>> train | epoch = 104 | time= 8.386433601379395 sec | loss= 76374.67186197916\n"
     ]
    },
    {
     "name": "stdout",
     "output_type": "stream",
     "text": [
      ">>> train | epoch = 105 | time= 8.38297438621521 sec | loss= 76374.73161458333\n",
      ">>> train | epoch = 106 | time= 8.395997524261475 sec | loss= 76374.88518229166\n",
      ">>> train | epoch = 107 | time= 8.398867845535278 sec | loss= 76374.73006510417\n",
      ">>> train | epoch = 108 | time= 8.379465103149414 sec | loss= 76374.80829427083\n",
      ">>> train | epoch = 109 | time= 8.364885807037354 sec | loss= 76374.59752604166\n",
      ">>> train | epoch = 110 | time= 8.387486934661865 sec | loss= 76374.7101953125\n",
      ">>> train | epoch = 111 | time= 8.159638166427612 sec | loss= 76373.98592447917\n",
      ">>> train | epoch = 112 | time= 8.283562898635864 sec | loss= 76374.82678385417\n",
      ">>> train | epoch = 113 | time= 8.396298885345459 sec | loss= 76375.58794270833\n",
      ">>> train | epoch = 114 | time= 8.414963245391846 sec | loss= 76374.76588541667\n",
      ">>> train | epoch = 115 | time= 8.366620779037476 sec | loss= 76374.07018229166\n",
      ">>> train | epoch = 116 | time= 8.401496171951294 sec | loss= 76374.11893229166\n",
      ">>> train | epoch = 117 | time= 8.13247561454773 sec | loss= 76374.62984375\n",
      ">>> train | epoch = 118 | time= 8.323601484298706 sec | loss= 76374.18459635417\n",
      ">>> train | epoch = 119 | time= 8.403348922729492 sec | loss= 76374.83223958334\n",
      ">>> train | epoch = 120 | time= 8.294216394424438 sec | loss= 76374.7351953125\n",
      ">>> train | epoch = 121 | time= 8.401058912277222 sec | loss= 76374.22723958333\n",
      ">>> train | epoch = 122 | time= 8.402792692184448 sec | loss= 76373.984140625\n",
      ">>> train | epoch = 123 | time= 8.392528295516968 sec | loss= 76374.52837239583\n",
      ">>> train | epoch = 124 | time= 8.387485265731812 sec | loss= 76374.17666666667\n",
      ">>> train | epoch = 125 | time= 8.401013374328613 sec | loss= 76374.28977864583\n",
      ">>> train | epoch = 126 | time= 8.405523777008057 sec | loss= 76373.93408854166\n",
      ">>> train | epoch = 127 | time= 8.388538360595703 sec | loss= 76374.69384114584\n",
      ">>> train | epoch = 128 | time= 8.3997163772583 sec | loss= 76374.0401953125\n",
      ">>> train | epoch = 129 | time= 8.415594339370728 sec | loss= 76374.29466145833\n",
      ">>> train | epoch = 130 | time= 8.407569885253906 sec | loss= 76374.56298177084\n",
      ">>> train | epoch = 131 | time= 8.406674861907959 sec | loss= 76374.33739583334\n",
      ">>> train | epoch = 132 | time= 8.392079830169678 sec | loss= 76374.43490885416\n",
      ">>> train | epoch = 133 | time= 8.086870431900024 sec | loss= 76374.24221354167\n",
      ">>> train | epoch = 134 | time= 8.49972915649414 sec | loss= 76374.4008984375\n",
      ">>> train | epoch = 135 | time= 8.476025819778442 sec | loss= 76374.2403515625\n",
      ">>> train | epoch = 136 | time= 8.372544527053833 sec | loss= 76373.918359375\n",
      ">>> train | epoch = 137 | time= 8.419015645980835 sec | loss= 76374.13057291666\n",
      ">>> train | epoch = 138 | time= 8.478073358535767 sec | loss= 76374.24641927083\n",
      ">>> train | epoch = 139 | time= 8.294206857681274 sec | loss= 76374.519296875\n",
      ">>> train | epoch = 140 | time= 8.391675233840942 sec | loss= 76374.4868359375\n",
      ">>> train | epoch = 141 | time= 8.38913607597351 sec | loss= 76374.0845703125\n",
      ">>> train | epoch = 142 | time= 8.39085078239441 sec | loss= 76374.088203125\n",
      ">>> train | epoch = 143 | time= 8.382030487060547 sec | loss= 76374.084765625\n",
      ">>> train | epoch = 144 | time= 8.408207178115845 sec | loss= 76373.76091145833\n",
      ">>> train | epoch = 145 | time= 8.400896310806274 sec | loss= 76374.19115885417\n",
      ">>> train | epoch = 146 | time= 8.397597074508667 sec | loss= 76373.9076953125\n",
      ">>> train | epoch = 147 | time= 8.398801803588867 sec | loss= 76373.80268229167\n",
      ">>> train | epoch = 148 | time= 8.170196771621704 sec | loss= 76374.19276041667\n",
      ">>> train | epoch = 149 | time= 8.410587072372437 sec | loss= 76373.5990625\n",
      ">>> train | epoch = 150 | time= 8.393929719924927 sec | loss= 76373.887734375\n",
      ">>> train | epoch = 151 | time= 8.389060258865356 sec | loss= 76373.8048828125\n",
      ">>> train | epoch = 152 | time= 8.400162935256958 sec | loss= 76374.00264322916\n",
      ">>> train | epoch = 153 | time= 8.405274152755737 sec | loss= 76373.72908854167\n",
      ">>> train | epoch = 154 | time= 8.399044513702393 sec | loss= 76373.53537760417\n",
      ">>> train | epoch = 155 | time= 8.29202675819397 sec | loss= 76373.89748697917\n",
      ">>> train | epoch = 156 | time= 8.14040231704712 sec | loss= 76373.90317708334\n",
      ">>> train | epoch = 157 | time= 8.21781587600708 sec | loss= 76373.80248697917\n",
      ">>> train | epoch = 158 | time= 8.39402961730957 sec | loss= 76373.63860677084\n",
      ">>> train | epoch = 159 | time= 8.401911497116089 sec | loss= 76373.87265625\n",
      ">>> train | epoch = 160 | time= 8.41423511505127 sec | loss= 76373.6876171875\n",
      ">>> train | epoch = 161 | time= 8.386937856674194 sec | loss= 76374.11196614584\n",
      ">>> train | epoch = 162 | time= 8.394746780395508 sec | loss= 76373.8100390625\n",
      ">>> train | epoch = 163 | time= 8.424718141555786 sec | loss= 76373.80787760417\n",
      ">>> train | epoch = 164 | time= 8.404930591583252 sec | loss= 76373.84475260417\n",
      ">>> train | epoch = 165 | time= 8.394288063049316 sec | loss= 76374.46559895833\n",
      ">>> train | epoch = 166 | time= 8.401572942733765 sec | loss= 76373.92220052083\n",
      ">>> train | epoch = 167 | time= 8.404066562652588 sec | loss= 76373.97065104167\n",
      ">>> train | epoch = 168 | time= 8.377679824829102 sec | loss= 76373.8470703125\n",
      ">>> train | epoch = 169 | time= 8.393401861190796 sec | loss= 76373.62623697917\n",
      ">>> train | epoch = 170 | time= 8.400915622711182 sec | loss= 76374.01009114583\n",
      ">>> train | epoch = 171 | time= 8.401699542999268 sec | loss= 76374.23736979166\n",
      ">>> train | epoch = 172 | time= 8.378488063812256 sec | loss= 76373.45963541667\n",
      ">>> train | epoch = 173 | time= 8.396926879882812 sec | loss= 76374.05893229166\n",
      ">>> train | epoch = 174 | time= 8.385210752487183 sec | loss= 76373.32403645833\n",
      ">>> train | epoch = 175 | time= 8.391186952590942 sec | loss= 76373.90065104167\n",
      ">>> train | epoch = 176 | time= 8.39491891860962 sec | loss= 76373.60970052083\n",
      ">>> train | epoch = 177 | time= 8.413879156112671 sec | loss= 76373.59998697917\n",
      ">>> train | epoch = 178 | time= 8.38030481338501 sec | loss= 76373.489765625\n",
      ">>> train | epoch = 179 | time= 8.40324068069458 sec | loss= 76373.7664453125\n",
      ">>> train | epoch = 180 | time= 8.225494861602783 sec | loss= 76373.82640625\n",
      ">>> train | epoch = 181 | time= 9.514981269836426 sec | loss= 76373.32795572917\n",
      ">>> train | epoch = 182 | time= 9.701310396194458 sec | loss= 76374.018046875\n",
      ">>> train | epoch = 183 | time= 9.947679281234741 sec | loss= 76373.2833203125\n",
      ">>> train | epoch = 184 | time= 9.867260456085205 sec | loss= 76373.88600260417\n",
      ">>> train | epoch = 185 | time= 10.0428786277771 sec | loss= 76373.92104166666\n",
      ">>> train | epoch = 186 | time= 9.665862798690796 sec | loss= 76373.9821875\n",
      ">>> train | epoch = 187 | time= 9.695319652557373 sec | loss= 76373.3671484375\n",
      ">>> train | epoch = 188 | time= 9.66018009185791 sec | loss= 76373.85467447917\n",
      ">>> train | epoch = 189 | time= 9.767233848571777 sec | loss= 76373.29174479167\n",
      ">>> train | epoch = 190 | time= 9.66020655632019 sec | loss= 76373.18440104167\n",
      ">>> train | epoch = 191 | time= 9.777780532836914 sec | loss= 76374.11994791667\n",
      ">>> train | epoch = 192 | time= 9.692509889602661 sec | loss= 76373.78346354167\n",
      ">>> train | epoch = 193 | time= 9.412026643753052 sec | loss= 76373.55674479167\n",
      ">>> train | epoch = 194 | time= 9.658437490463257 sec | loss= 76373.62096354166\n",
      ">>> train | epoch = 195 | time= 9.65561819076538 sec | loss= 76373.53270833334\n",
      ">>> train | epoch = 196 | time= 9.816813468933105 sec | loss= 76373.7253515625\n",
      ">>> train | epoch = 197 | time= 9.69377326965332 sec | loss= 76373.77505208334\n",
      ">>> train | epoch = 198 | time= 9.68363642692566 sec | loss= 76373.516796875\n",
      ">>> train | epoch = 199 | time= 9.668139934539795 sec | loss= 76373.462890625\n",
      "Training Done\n"
     ]
    }
   ],
   "source": [
    "print(\"Training Started\")\n",
    "for i in range(epochs_start, epochs_end):\n",
    "    epoch = i + 1\n",
    "    loss_history['training'].append(0)\n",
    "    start_time = time.time()\n",
    "    for j, batch in enumerate(training_iterator):\n",
    "        with chainer.using_config('train', True):\n",
    "            x = concat_examples(batch=batch, device=device)\n",
    "            mean_z, ln_var_z, x, mean_x, ln_var_x = model(x)\n",
    "            loss = lossFunc(mean_z, ln_var_z, x, mean_x, ln_var_x)\n",
    "            model.cleargrads()\n",
    "            loss.backward()\n",
    "            optimizer.update()\n",
    "\n",
    "        loss_history['training'][-1] += float(loss.data)\n",
    "#         print('train=',j,' loss=',loss)\n",
    "    loss_history['training'][-1] /= j + 1\n",
    "    print('>>> train | epoch = {} | time= {} sec | loss= {}'.format(i, (time.time() - start_time), \n",
    "                                                        loss_history['training'][-1]))\n",
    "    training_iterator.reset()\n",
    "    if (epochs_end==epoch):\n",
    "        np.savez('{:s}/loss_history_ts_{:s}_{:03d}.npz'.format('Result', train_session, epoch), loss_history)\n",
    "        serializers.save_npz('{:s}/model_ts_{:s}_{:03d}.npz'.format('Result', train_session, epoch), model)\n",
    "        serializers.save_npz('{:s}/optimizer_ts_{:s}_{:03d}.npz'.format('Result', train_session, epoch), optimizer)\n",
    "    else:\n",
    "        np.savez('{:s}/loss_history_ts_{:s}_{:03d}.npz'.format(model_directory, train_session, epoch), loss_history)\n",
    "        serializers.save_npz('{:s}/model_ts_{:s}_{:03d}.npz'.format(model_directory, train_session, epoch), model)\n",
    "        serializers.save_npz('{:s}/optimizer_ts_{:s}_{:03d}.npz'.format(model_directory, train_session, epoch), optimizer)\n",
    "\n",
    "print(\"Training Done\")"
   ]
  },
  {
   "cell_type": "code",
   "execution_count": 11,
   "metadata": {},
   "outputs": [],
   "source": [
    "# print(loss_history['training'])"
   ]
  },
  {
   "cell_type": "code",
   "execution_count": 12,
   "metadata": {},
   "outputs": [
    {
     "data": {
      "text/plain": [
       "[<matplotlib.lines.Line2D at 0x7f565f29f240>]"
      ]
     },
     "execution_count": 12,
     "metadata": {},
     "output_type": "execute_result"
    },
    {
     "data": {
      "image/png": "[encoded data removed]",
      "text/plain": [
       "<Figure size 1080x720 with 1 Axes>"
      ]
     },
     "metadata": {
      "needs_background": "light"
     },
     "output_type": "display_data"
    }
   ],
   "source": [
    "fig=plt.figure(figsize=(15, 10))\n",
    "plt.xlabel('Epochs')\n",
    "plt.ylabel('Loss')\n",
    "plt.plot(loss_history['training'])"
   ]
  },
  {
   "cell_type": "markdown",
   "metadata": {},
   "source": [
    "# Test"
   ]
  },
  {
   "cell_type": "code",
   "execution_count": 13,
   "metadata": {},
   "outputs": [
    {
     "name": "stdout",
     "output_type": "stream",
     "text": [
      "Test Starting...\n"
     ]
    },
    {
     "name": "stderr",
     "output_type": "stream",
     "text": [
      "/home/sameera/anaconda3/envs/NIPS/lib/python3.6/site-packages/ipykernel_launcher.py:21: RuntimeWarning: invalid value encountered in sqrt\n"
     ]
    },
    {
     "name": "stdout",
     "output_type": "stream",
     "text": [
      "Test Done...\n",
      ">>> test | time= 5.320266962051392 sec |\n"
     ]
    }
   ],
   "source": [
    "# encoder_T = Encoder()\n",
    "# decoder_T = Decoder()\n",
    "# model_T = Model(decoder_T, encoder_T) if device < 0 else Model(decoder_T, encoder_T).to_gpu(device)\n",
    "# serializers.load_npz('{:s}/model_ts_{:s}_{:03d}.npz'.format('Result', train_session, epochs_end), model_T)\n",
    "# lossFunc_T = Loss()\n",
    "\n",
    "batch_size = 10\n",
    "with chainer.using_config('train', False):\n",
    "    test_set = Mnist()\n",
    "    test_iterator = SerialIterator(test_set, batch_size, False, True)\n",
    "\n",
    "test_history = []\n",
    "test_x = []\n",
    "test_mean_x = []\n",
    "test_var_x = []\n",
    "\n",
    "print('Test Starting...')\n",
    "start_time = time.time()\n",
    "for i in range(1):\n",
    "    epoch = i + 1\n",
    "    \n",
    "    for j, batch in enumerate(test_iterator):\n",
    "        with chainer.using_config('train', False):\n",
    "            x = concat_examples(batch=batch, device=device)\n",
    "            mean_z, ln_var_z, x, mean_x, ln_var_x = model(x)\n",
    "            loss = lossFunc(mean_z, ln_var_z, x, mean_x, ln_var_x)\n",
    "            test_x.append(x)\n",
    "            test_mean_x.append(mean_x)\n",
    "            test_var_x.append(ln_var_z)\n",
    "\n",
    "        test_history.append(float(loss.data))\n",
    "#         print('test epoch=',epoch,'test batch=',j,' loss=',loss)\n",
    "    np.savez('{:s}/test_loss_history_ts_{:s}_{:03d}.npz'.format('Result', train_session, epoch), test_history)\n",
    "print('Test Done...')\n",
    "print('>>> test | time= {} sec |'.format((time.time() - start_time)))"
   ]
  },
  {
   "cell_type": "code",
   "execution_count": 14,
   "metadata": {},
   "outputs": [
    {
     "data": {
      "text/plain": [
       "<matplotlib.image.AxesImage at 0x7f5643df70b8>"
      ]
     },
     "execution_count": 14,
     "metadata": {},
     "output_type": "execute_result"
    },
    {
     "data": {
      "image/png": "[encoded data removed]",
      "text/plain": [
       "<Figure size 720x720 with 4 Axes>"
      ]
     },
     "metadata": {
      "needs_background": "light"
     },
     "output_type": "display_data"
    }
   ],
   "source": [
    "if device<0:\n",
    "    in_x_1  =      test_x[0][0].reshape(28,28)\n",
    "    out_x_1 = test_mean_x[0][0].data.reshape(28,28)\n",
    "\n",
    "    in_x_2  =      test_x[0][1].reshape(28,28)\n",
    "    out_x_2 = test_mean_x[0][1].data.reshape(28,28)\n",
    "else:\n",
    "    in_x_1  =      test_x[0][0].get().reshape(28,28)\n",
    "    out_x_1 = test_mean_x[0][0].data.get().reshape(28,28)\n",
    "\n",
    "    in_x_2  =      test_x[0][1].get().reshape(28,28)\n",
    "    out_x_2 = test_mean_x[0][1].data.get().reshape(28,28)\n",
    "\n",
    "fig=plt.figure(figsize=(10, 10))\n",
    "\n",
    "plt.subplot(221)\n",
    "plt.title('Input (1)')\n",
    "plt.imshow(in_x_1)\n",
    "\n",
    "plt.subplot(222)\n",
    "plt.title('output (1)')\n",
    "plt.imshow(out_x_1)\n",
    "\n",
    "plt.subplot(223)\n",
    "plt.title('Input (2)')\n",
    "plt.imshow(in_x_2)\n",
    "\n",
    "plt.subplot(224)\n",
    "plt.title('output (2)')\n",
    "plt.imshow(out_x_2)"
   ]
  },
  {
   "cell_type": "markdown",
   "metadata": {
    "colab_type": "text",
    "id": "EzCbq-7SKmBW"
   },
   "source": [
    "Bonus task: Try the same experiments on a different dataset. (20 bonus points)\n",
    "\n",
    "http://ruishu.io/2018/03/14/vae/"
   ]
  },
  {
   "cell_type": "markdown",
   "metadata": {},
   "source": [
    "# Optimizer Eval"
   ]
  },
  {
   "cell_type": "code",
   "execution_count": 15,
   "metadata": {},
   "outputs": [
    {
     "name": "stdout",
     "output_type": "stream",
     "text": [
      "76368.30516927084\n"
     ]
    },
    {
     "data": {
      "image/png": "[encoded data removed]",
      "text/plain": [
       "<Figure size 1080x720 with 1 Axes>"
      ]
     },
     "metadata": {
      "needs_background": "light"
     },
     "output_type": "display_data"
    }
   ],
   "source": [
    "loss_His = np.load('{:s}/loss_history_ts_{:s}_{:03d}.npz'.format('Result', 'Adam', 20))\n",
    "loss_His = loss_His[loss_His.files[0]]\n",
    "loss_His = loss_His.reshape(1,)[0]\n",
    "\n",
    "fig=plt.figure(figsize=(15, 10))\n",
    "plt.xlabel('Epochs')\n",
    "plt.ylabel('Loss')\n",
    "plt.plot(loss_His['training'])\n",
    "\n",
    "print(loss_His['training'][-1])"
   ]
  },
  {
   "cell_type": "code",
   "execution_count": 16,
   "metadata": {},
   "outputs": [
    {
     "name": "stdout",
     "output_type": "stream",
     "text": [
      "76388.58677083334\n"
     ]
    },
    {
     "data": {
      "image/png": "[encoded data removed]",
      "text/plain": [
       "<Figure size 1080x720 with 1 Axes>"
      ]
     },
     "metadata": {
      "needs_background": "light"
     },
     "output_type": "display_data"
    }
   ],
   "source": [
    "loss_His = np.load('{:s}/loss_history_ts_{:s}_{:03d}.npz'.format('Result', 'SGD', 20))\n",
    "loss_His = loss_His[loss_His.files[0]]\n",
    "loss_His = loss_His.reshape(1,)[0]\n",
    "\n",
    "fig=plt.figure(figsize=(15, 10))\n",
    "plt.xlabel('Epochs')\n",
    "plt.ylabel('Loss')\n",
    "plt.plot(loss_His['training'])\n",
    "\n",
    "print(loss_His['training'][-1])"
   ]
  },
  {
   "cell_type": "code",
   "execution_count": 17,
   "metadata": {},
   "outputs": [
    {
     "ename": "FileNotFoundError",
     "evalue": "[Errno 2] No such file or directory: 'Result/loss_history_ts_RMSprop_020.npz'",
     "output_type": "error",
     "traceback": [
      "\u001b[0;31m---------------------------------------------------------------------------\u001b[0m",
      "\u001b[0;31mFileNotFoundError\u001b[0m                         Traceback (most recent call last)",
      "\u001b[0;32m<ipython-input-17-ccaeb626c2e1>\u001b[0m in \u001b[0;36m<module>\u001b[0;34m()\u001b[0m\n\u001b[0;32m----> 1\u001b[0;31m \u001b[0mloss_His\u001b[0m \u001b[0;34m=\u001b[0m \u001b[0mnp\u001b[0m\u001b[0;34m.\u001b[0m\u001b[0mload\u001b[0m\u001b[0;34m(\u001b[0m\u001b[0;34m'{:s}/loss_history_ts_{:s}_{:03d}.npz'\u001b[0m\u001b[0;34m.\u001b[0m\u001b[0mformat\u001b[0m\u001b[0;34m(\u001b[0m\u001b[0;34m'Result'\u001b[0m\u001b[0;34m,\u001b[0m \u001b[0;34m'RMSprop'\u001b[0m\u001b[0;34m,\u001b[0m \u001b[0;36m20\u001b[0m\u001b[0;34m)\u001b[0m\u001b[0;34m)\u001b[0m\u001b[0;34m\u001b[0m\u001b[0m\n\u001b[0m\u001b[1;32m      2\u001b[0m \u001b[0mloss_His\u001b[0m \u001b[0;34m=\u001b[0m \u001b[0mloss_His\u001b[0m\u001b[0;34m[\u001b[0m\u001b[0mloss_His\u001b[0m\u001b[0;34m.\u001b[0m\u001b[0mfiles\u001b[0m\u001b[0;34m[\u001b[0m\u001b[0;36m0\u001b[0m\u001b[0;34m]\u001b[0m\u001b[0;34m]\u001b[0m\u001b[0;34m\u001b[0m\u001b[0m\n\u001b[1;32m      3\u001b[0m \u001b[0mloss_His\u001b[0m \u001b[0;34m=\u001b[0m \u001b[0mloss_His\u001b[0m\u001b[0;34m.\u001b[0m\u001b[0mreshape\u001b[0m\u001b[0;34m(\u001b[0m\u001b[0;36m1\u001b[0m\u001b[0;34m,\u001b[0m\u001b[0;34m)\u001b[0m\u001b[0;34m[\u001b[0m\u001b[0;36m0\u001b[0m\u001b[0;34m]\u001b[0m\u001b[0;34m\u001b[0m\u001b[0m\n\u001b[1;32m      4\u001b[0m \u001b[0;34m\u001b[0m\u001b[0m\n\u001b[1;32m      5\u001b[0m \u001b[0mfig\u001b[0m\u001b[0;34m=\u001b[0m\u001b[0mplt\u001b[0m\u001b[0;34m.\u001b[0m\u001b[0mfigure\u001b[0m\u001b[0;34m(\u001b[0m\u001b[0mfigsize\u001b[0m\u001b[0;34m=\u001b[0m\u001b[0;34m(\u001b[0m\u001b[0;36m15\u001b[0m\u001b[0;34m,\u001b[0m \u001b[0;36m10\u001b[0m\u001b[0;34m)\u001b[0m\u001b[0;34m)\u001b[0m\u001b[0;34m\u001b[0m\u001b[0m\n",
      "\u001b[0;32m~/anaconda3/envs/NIPS/lib/python3.6/site-packages/numpy/lib/npyio.py\u001b[0m in \u001b[0;36mload\u001b[0;34m(file, mmap_mode, allow_pickle, fix_imports, encoding)\u001b[0m\n\u001b[1;32m    382\u001b[0m     \u001b[0mown_fid\u001b[0m \u001b[0;34m=\u001b[0m \u001b[0;32mFalse\u001b[0m\u001b[0;34m\u001b[0m\u001b[0m\n\u001b[1;32m    383\u001b[0m     \u001b[0;32mif\u001b[0m \u001b[0misinstance\u001b[0m\u001b[0;34m(\u001b[0m\u001b[0mfile\u001b[0m\u001b[0;34m,\u001b[0m \u001b[0mbasestring\u001b[0m\u001b[0;34m)\u001b[0m\u001b[0;34m:\u001b[0m\u001b[0;34m\u001b[0m\u001b[0m\n\u001b[0;32m--> 384\u001b[0;31m         \u001b[0mfid\u001b[0m \u001b[0;34m=\u001b[0m \u001b[0mopen\u001b[0m\u001b[0;34m(\u001b[0m\u001b[0mfile\u001b[0m\u001b[0;34m,\u001b[0m \u001b[0;34m\"rb\"\u001b[0m\u001b[0;34m)\u001b[0m\u001b[0;34m\u001b[0m\u001b[0m\n\u001b[0m\u001b[1;32m    385\u001b[0m         \u001b[0mown_fid\u001b[0m \u001b[0;34m=\u001b[0m \u001b[0;32mTrue\u001b[0m\u001b[0;34m\u001b[0m\u001b[0m\n\u001b[1;32m    386\u001b[0m     \u001b[0;32melif\u001b[0m \u001b[0mis_pathlib_path\u001b[0m\u001b[0;34m(\u001b[0m\u001b[0mfile\u001b[0m\u001b[0;34m)\u001b[0m\u001b[0;34m:\u001b[0m\u001b[0;34m\u001b[0m\u001b[0m\n",
      "\u001b[0;31mFileNotFoundError\u001b[0m: [Errno 2] No such file or directory: 'Result/loss_history_ts_RMSprop_020.npz'"
     ]
    }
   ],
   "source": [
    "loss_His = np.load('{:s}/loss_history_ts_{:s}_{:03d}.npz'.format('Result', 'RMSprop', 20))\n",
    "loss_His = loss_His[loss_His.files[0]]\n",
    "loss_His = loss_His.reshape(1,)[0]\n",
    "\n",
    "fig=plt.figure(figsize=(15, 10))\n",
    "plt.xlabel('Epochs')\n",
    "plt.ylabel('Loss')\n",
    "plt.plot(loss_His['training'])\n",
    "\n",
    "print(loss_His['training'][-1])"
   ]
  }
 ],
 "metadata": {
  "colab": {
   "collapsed_sections": [],
   "name": "weeks_6_and_7",
   "provenance": [],
   "version": "0.3.2"
  },
  "kernelspec": {
   "display_name": "Python 3",
   "language": "python",
   "name": "python3"
  },
  "language_info": {
   "codemirror_mode": {
    "name": "ipython",
    "version": 3
   },
   "file_extension": ".py",
   "mimetype": "text/x-python",
   "name": "python",
   "nbconvert_exporter": "python",
   "pygments_lexer": "ipython3",
   "version": "3.6.6"
  }
 },
 "nbformat": 4,
 "nbformat_minor": 1
}
