{
 "cells": [
  {
   "cell_type": "markdown",
   "metadata": {
    "colab_type": "text",
    "id": "CGc6Y5_eKaPD"
   },
   "source": [
    "**SOW-MKI49: Neural Information Processing Systems**  \n",
    "*Weeks 6 and 7: Assignment (100 points + 20 bonus points)  \n",
    "Author: Luca and Umut"
   ]
  },
  {
   "cell_type": "markdown",
   "metadata": {
    "colab": {},
    "colab_type": "code",
    "id": "cBlzrHdoKzvY"
   },
   "source": [
    "# Group number: 17\n",
    "\n",
    "1. Sameera Sandaruwan, s1014012\n",
    "2. Mohit Jethwani, s1019474"
   ]
  },
  {
   "cell_type": "markdown",
   "metadata": {},
   "source": [
    "# Notes\n",
    "---\n",
    "http://kvfrans.com/variational-autoencoders-explained/\n",
    "\n",
    "However, there were a couple of downsides to using a plain GAN.\n",
    "\n",
    "First, the images are generated off some arbitrary noise. If you wanted to generate a picture with specific features, there's no way of determining which initial noise values would produce that picture, other than searching over the entire distribution.\n",
    "\n",
    "Second, a generative adversarial model only discriminates between \"real\" and \"fake\" images. There's no constraints that an image of a cat has to look like a cat. This leads to results where there's no actual object in a generated image, but the style just looks like picture.\n",
    "\n",
    "In this post, I'll go over the variational autoencoder, a type of network that solves these two problems.\n",
    "\n",
    "The more efficiently we can encode the original image, the higher we can raise the standard deviation on our gaussian until it reaches one.\n",
    "\n",
    "https://github.com/chainer/chainer/blob/master/examples/vae/net.py\n",
    "\n",
    "https://github.com/musyoku/variational-autoencoder/blob/master/vae_m1.py\n",
    "\n",
    "---\n",
    "## To Do\n",
    "\n",
    "1. Search Variational autoencoder\n",
    "2. Search Variational inference\n",
    "3. Find Input and Output dimensions of dataset: \n",
    "Depends on our Network architecture. Network can be Convolutional (input is 28x28, output 1x10) or Linear (input is 1x784, output 1x10)\n",
    "4. Check the architecture\n",
    "5. How the loss function work here\n",
    "6. figure out the architecture and what (X, Y, Z) are\n",
    "7. Unit gaussian distribution\n",
    "\n",
    "sdf"
   ]
  },
  {
   "cell_type": "code",
   "execution_count": 1,
   "metadata": {
    "colab": {},
    "colab_type": "code",
    "id": "Gz0FZAwiJ-al"
   },
   "outputs": [],
   "source": [
    "from chainer import cuda, datasets, serializers\n",
    "from chainer.dataset import DatasetMixin, concat_examples\n",
    "from chainer.iterators import MultithreadIterator\n",
    "from chainer.iterators import SerialIterator\n",
    "from chainer.optimizers import Adam, SGD, RMSprop\n",
    "import chainer\n",
    "import chainer.functions as F\n",
    "import chainer.links as L\n",
    "import cupy\n",
    "import numpy as np\n",
    "import tqdm\n",
    "import time\n",
    "\n",
    "model_directory = 'Model'\n",
    "train_session = 'SGD_1e-3'\n",
    "device = 0\n",
    "\n",
    "# optimizer = Adam()\n",
    "# optimizer = Adam(alpha=0.001, beta1=0.9, beta2=0.999, eps=1e-08)\n",
    "optimizer = SGD(lr=1e-3)\n",
    "# optimizer = RMSprop()"
   ]
  },
  {
   "cell_type": "code",
   "execution_count": 2,
   "metadata": {},
   "outputs": [],
   "source": [
    "import matplotlib.pyplot as plt\n",
    "%matplotlib inline"
   ]
  },
  {
   "cell_type": "code",
   "execution_count": 3,
   "metadata": {},
   "outputs": [
    {
     "name": "stdout",
     "output_type": "stream",
     "text": [
      "0.001\n"
     ]
    }
   ],
   "source": [
    "n_in = 28*28\n",
    "n_h = 1024\n",
    "n_latent = 10\n",
    "print(1e-3)"
   ]
  },
  {
   "cell_type": "markdown",
   "metadata": {
    "colab_type": "text",
    "id": "ckO0T0SLAFf7"
   },
   "source": [
    "# Decoder\n",
    "This is the decoder class. It transforms **latents (features) to observables (images)**. It corresponds to p(x | z) in the context of **variational inference** (and the slides), **where x is observables and y is latents.**\n",
    "\n",
    "Task: (10 points)\n",
    "\n",
    "- Implement the decoder class for a **variational autoencoder**. Note that the **decoder** should output the **Gaussian distribution parameters (mean and variance per pixel)** of images rather than images themselves."
   ]
  },
  {
   "cell_type": "code",
   "execution_count": 4,
   "metadata": {
    "colab": {},
    "colab_type": "code",
    "id": "ew8VZCkl-FdE"
   },
   "outputs": [],
   "source": [
    "class Decoder(chainer.ChainList):\n",
    "    def __init__(self): # <= you might want to pass some architecture parameters (e.g., #i/o units, etc.) here\n",
    "        super(Decoder, self).__init__(\n",
    "            # pass your decoder layers here\n",
    "            L.Linear(10, 500),\n",
    "            L.Linear(500, 1024),\n",
    "            L.Linear(1024, 1024),\n",
    "            L.Linear(1024, 784),\n",
    "            \n",
    "            L.Linear(1024, 784),\n",
    "        )\n",
    "\n",
    "    def __call__(self, x):\n",
    "        h = F.relu(self[0](x))\n",
    "        h = F.relu(self[1](h))\n",
    "        h = F.relu(self[2](h))\n",
    "        mean_x = F.softmax(self[-1](h))\n",
    "        ln_var_x = F.softmax(self[-2](h))\n",
    "        \n",
    "        return mean_x, ln_var_x"
   ]
  },
  {
   "cell_type": "markdown",
   "metadata": {
    "colab_type": "text",
    "id": "d36RjWO6AKqO"
   },
   "source": [
    "# Encoder\n",
    "This is the encoder class. It transforms **observables (images) to latents (features)**. It corresponds to **q(z|x)** in the context of variational inference (and the slides), **where z is latents and x is observables**.\n",
    "\n",
    "Task: (10 points)\n",
    "\n",
    "- Implement the encoder class for a variational autoencoder. Note that the encoder should output the Gaussian distribution parameters (mean and variance per feature) of features rather than features themselves."
   ]
  },
  {
   "cell_type": "code",
   "execution_count": 5,
   "metadata": {
    "colab": {},
    "colab_type": "code",
    "id": "V-5xcJAWAFIC"
   },
   "outputs": [
    {
     "data": {
      "text/plain": [
       "'\\nhttps://www.kaggle.com/luyujia/mnist-chainer-cnn#\\ncheck this - https://github.com/musyoku/variational-autoencoder/blob/master/vae_m1.py\\n\\nConvolutional Encoder  - backup\\nconv1 = L.Convolution2D(in_channels=1, out_channels=32, ksize=5),\\nconv2 = L.Convolution2D(in_channels=32, out_channels=64, ksize=5),\\nmean_z = L.Linear(1024, 10),\\nln_var_z = L.Linear(1024, 10),\\n\\n'"
      ]
     },
     "execution_count": 5,
     "metadata": {},
     "output_type": "execute_result"
    }
   ],
   "source": [
    "class Encoder(chainer.ChainList):\n",
    "    def __init__(self): # <= you might want to pass some architecture parameters (e.g., #i/o units, etc.) here\n",
    "        super(Encoder, self).__init__(\n",
    "            # pass your encoder layers here\n",
    "            L.Linear(784, 1024),\n",
    "            L.Linear(1024, 1024),\n",
    "            L.Linear(1024, 500),\n",
    "            L.Linear(500, 10),\n",
    "            \n",
    "            L.Linear(500, 10),\n",
    "        )\n",
    "\n",
    "    def __call__(self, x):\n",
    "        h = F.relu(self[0](x))\n",
    "        h = F.relu(self[1](h))\n",
    "        h = F.relu(self[2](h))\n",
    "        mean_z = F.softmax(self[-2](h))\n",
    "        ln_var_z = F.softmax(self[-1](h))\n",
    "        \n",
    "        return mean_z, ln_var_z\n",
    "'''\n",
    "https://www.kaggle.com/luyujia/mnist-chainer-cnn#\n",
    "check this - https://github.com/musyoku/variational-autoencoder/blob/master/vae_m1.py\n",
    "\n",
    "Convolutional Encoder  - backup\n",
    "conv1 = L.Convolution2D(in_channels=1, out_channels=32, ksize=5),\n",
    "conv2 = L.Convolution2D(in_channels=32, out_channels=64, ksize=5),\n",
    "mean_z = L.Linear(1024, 10),\n",
    "ln_var_z = L.Linear(1024, 10),\n",
    "\n",
    "'''"
   ]
  },
  {
   "cell_type": "markdown",
   "metadata": {
    "colab_type": "text",
    "id": "8ch2iPFbBWVu"
   },
   "source": [
    "# Loss\n",
    "This is the loss class. The loss of encoder and decoder of a variational autoencoder is the evidence lower bound as follows:\n",
    "\n",
    "$L = D_{KL}(q(z | x), p(z)) -  E_{z\\sim q}[log~p(x | z)]$\n",
    "\n",
    "The first term above is the KL divergence between the approximate posterior (q) and the prior (p), which can be interpreted as a form of regularization. You can assume that the prior is unit Gaussian. It can be implemented with the F.gaussian_kl_divergence function in Chainer.\n",
    "\n",
    "The second term above is the Gaussian negative log likelihood. This is the term that fits the data, which is very similar to the usual loss functions that you use in deep learning. It can be implemented with the F.gaussian_nll function in Chainer.\n",
    "\n",
    "Task: \n",
    "\n",
    "- Implement the loss class. (10 points)\n",
    "\n",
    "\n",
    "As input, it gets the following arguments:\n",
    "\n",
    "mean_z => mean of the encoded features (output of the encoder)  \n",
    "ln_var_z => log variance of the encoded features (output of the encoder)  \n",
    "x => input images (mini batch)  \n",
    "mean_x => mean of the decoded images (output of the decoder)  \n",
    "ln_var_x => mean of the decoded images (output of the decoder)  \n",
    "\n",
    "As output, it gives the loss.\n",
    "\n",
    "- Explain why we use log variance instead of variance. (5 points)\n",
    "\n",
    "**Answer**\n"
   ]
  },
  {
   "cell_type": "code",
   "execution_count": 6,
   "metadata": {},
   "outputs": [
    {
     "data": {
      "text/plain": [
       "'\\n# z_mean and z_stddev are two vectors generated by encoder network\\nlatent_loss = 0.5 * tf.reduce_sum(tf.square(z_mean) + tf.square(z_stddev) - tf.log(tf.square(z_stddev)) - 1,1) \\n'"
      ]
     },
     "execution_count": 6,
     "metadata": {},
     "output_type": "execute_result"
    }
   ],
   "source": [
    "'''\n",
    "# z_mean and z_stddev are two vectors generated by encoder network\n",
    "latent_loss = 0.5 * tf.reduce_sum(tf.square(z_mean) + tf.square(z_stddev) - tf.log(tf.square(z_stddev)) - 1,1) \n",
    "'''"
   ]
  },
  {
   "cell_type": "code",
   "execution_count": 7,
   "metadata": {
    "colab": {},
    "colab_type": "code",
    "id": "iN6gKfG9BWfC"
   },
   "outputs": [],
   "source": [
    "# check this - https://github.com/musyoku/variational-autoencoder/blob/master/vae_m1.py\n",
    "# https://wiseodd.github.io/techblog/2016/12/10/variational-autoencoder/\n",
    "# https://towardsdatascience.com/intuitively-understanding-variational-autoencoders-1bfe67eb5daf\n",
    "class Loss(object):\n",
    "    def __call__(self, mean_z, ln_var_z, x, mean_x, ln_var_x):\n",
    "        # Implement the loss here     \n",
    "        '''\n",
    "        1. KL divergence\n",
    "        F.gaussian_kl_divergence\n",
    "        \n",
    "        𝐷𝐾𝐿(𝑞(𝑧|𝑥),𝑝(𝑧))\n",
    "        \n",
    "        '''\n",
    "        dkl = F.gaussian_kl_divergence(mean_z, ln_var_z)\n",
    "        '''\n",
    "        2. Gaussian negative log likelihood\n",
    "        F.gaussian_nll\n",
    "        \n",
    "        𝐸𝑧∼𝑞[𝑙𝑜𝑔(𝑝(𝑥|𝑧))]\n",
    "        \n",
    "        '''\n",
    "        Gnll = F.gaussian_nll(x, mean_x, ln_var_x)\n",
    "#         print('loss ', dkl, Gnll)\n",
    "        return dkl + Gnll\n",
    "        "
   ]
  },
  {
   "cell_type": "markdown",
   "metadata": {
    "colab_type": "text",
    "id": "wuS4ynBqBYt9"
   },
   "source": [
    "# Model\n",
    "This is the model class. It combines the encoder and the decoder.\n",
    "\n",
    "Task: (20 points)\n",
    "\n",
    "- Implement the reparameterziation trick for sampling latents. (10 points)\n",
    "\n",
    "\n",
    "\n",
    "- Explain why we need to use this trick. (10 points)\n",
    "\n",
    "**The latent loss, which is the KL divergence that measures how closely the latent variables match a unit gaussian. In order to optimize the KL divergence, we need the trick: instead of the encoder generating a vector of real values, it will generate a vector of means and a vector of standard deviations.**"
   ]
  },
  {
   "cell_type": "code",
   "execution_count": 8,
   "metadata": {
    "colab": {},
    "colab_type": "code",
    "id": "kTLyWlw2BY3H"
   },
   "outputs": [],
   "source": [
    "class Model(chainer.Chain):\n",
    "    def __init__(self, decoder, encoder):\n",
    "        super(Model, self).__init__()\n",
    "\n",
    "        with self.init_scope():\n",
    "            self.decoder = decoder\n",
    "            self.encoder = encoder\n",
    "\n",
    "    def __call__(self, x):\n",
    "        mean_z, ln_var_z = self.encoder(x)\n",
    "        \n",
    "        # Sample latents (z) from the Gaussian with parameters ln_var_z, mean_z by using the reparameterization trick\n",
    "        '''\n",
    "        https://www.jeremyjordan.me/variational-autoencoders/\n",
    "        we can just sample from the standard deviations and add the mean, and use that as our latent vector: \n",
    "        samples = tf.random_normal([batchsize,n_z],0,1,dtype=tf.float32)  \n",
    "        sampled_z = z_mean + (z_stddev * samples)\n",
    "        '''\n",
    "        z = np.random.normal(0, 1, 10) if device < 0 else cupy.random.normal(0, 1, 10)\n",
    "#         z = np.random.normal(0, 1, 10)\n",
    "        z = mean_z + (ln_var_z * z)\n",
    "        mean_x, ln_var_x = self.decoder(z)\n",
    "\n",
    "        return mean_z, ln_var_z, x, mean_x, ln_var_x"
   ]
  },
  {
   "cell_type": "markdown",
   "metadata": {
    "colab_type": "text",
    "id": "6UYXDr2-HrrA"
   },
   "source": [
    "This is a helper class to use the Mnist dataset."
   ]
  },
  {
   "cell_type": "code",
   "execution_count": 9,
   "metadata": {
    "colab": {},
    "colab_type": "code",
    "id": "12AV4tiBHo0W"
   },
   "outputs": [],
   "source": [
    "class Mnist(DatasetMixin):\n",
    "    def __init__(self):\n",
    "        self.dataset = datasets.get_mnist(False)[0 if chainer.config.train else 1]\n",
    "\n",
    "    def __len__(self):\n",
    "        return len(self.dataset)\n",
    "\n",
    "    def get_example(self, i):\n",
    "        return self.dataset[i]"
   ]
  },
  {
   "cell_type": "markdown",
   "metadata": {
    "colab_type": "text",
    "id": "tC5HdWquIw7B"
   },
   "source": [
    "Task: (50 points)\n",
    "\n",
    "- Train the above defined variational autoencoder on the Mnist dataset. You can refer to the earlier assignments to implement your training loop. (25 points)\n",
    "\n",
    "- How good are the samples? Randomy sample some digits and visualize them. (10 points)\n",
    "\n",
    "- How good are the reconstructions? Draw an Mnist like digit, encode it, decode it and visualize the digits. How different is the reconstruction from the original. (10 points)\n",
    "\n",
    "- Repeat the last task but by drawing something other than a digit (e.g., a face). How accuracte is the reconstructions? Explain the results. (5 points)"
   ]
  },
  {
   "cell_type": "markdown",
   "metadata": {
    "colab": {},
    "colab_type": "code",
    "id": "I34eP98AIV-j"
   },
   "source": [
    "# Training"
   ]
  },
  {
   "cell_type": "code",
   "execution_count": 10,
   "metadata": {},
   "outputs": [],
   "source": [
    "encoder = Encoder()\n",
    "decoder = Decoder()\n",
    "model = Model(decoder, encoder) if device < 0 else Model(decoder, encoder).to_gpu(device)\n",
    "\n",
    "optimizer.setup(model)\n",
    "\n",
    "### Prep dataset\n",
    "batch_size = 100\n",
    "training_set = Mnist()\n",
    "training_iterator = SerialIterator(training_set, batch_size, False, True)\n",
    "loss_history = {'training': [], 'validation': []}\n",
    "\n",
    "lossFunc = Loss()\n",
    "\n",
    "epochs_start = 0\n",
    "epochs_end = 100"
   ]
  },
  {
   "cell_type": "code",
   "execution_count": 11,
   "metadata": {},
   "outputs": [
    {
     "name": "stdout",
     "output_type": "stream",
     "text": [
      "Training Started\n",
      ">>> train | epoch = 0 | time= 14.709107875823975 sec | loss= 76472.75220052083\n",
      ">>> train | epoch = 1 | time= 14.88143253326416 sec | loss= 76430.63733072917\n",
      ">>> train | epoch = 2 | time= 8.447000741958618 sec | loss= 76424.433828125\n",
      ">>> train | epoch = 3 | time= 7.7985920906066895 sec | loss= 76415.7416015625\n",
      ">>> train | epoch = 4 | time= 14.378607034683228 sec | loss= 76407.43986979166\n",
      ">>> train | epoch = 5 | time= 8.211618423461914 sec | loss= 76400.63483072916\n",
      ">>> train | epoch = 6 | time= 7.933697938919067 sec | loss= 76396.80346354167\n",
      ">>> train | epoch = 7 | time= 11.023942470550537 sec | loss= 76395.15626302084\n",
      ">>> train | epoch = 8 | time= 7.661799669265747 sec | loss= 76394.22373697917\n",
      ">>> train | epoch = 9 | time= 7.668727397918701 sec | loss= 76393.5186328125\n",
      ">>> train | epoch = 10 | time= 7.750056982040405 sec | loss= 76392.9967578125\n",
      ">>> train | epoch = 11 | time= 7.7153613567352295 sec | loss= 76392.389296875\n",
      ">>> train | epoch = 12 | time= 7.663728952407837 sec | loss= 76391.87708333334\n",
      ">>> train | epoch = 13 | time= 7.857547044754028 sec | loss= 76391.24565104167\n",
      ">>> train | epoch = 14 | time= 8.05862283706665 sec | loss= 76390.7262890625\n",
      ">>> train | epoch = 15 | time= 8.173988819122314 sec | loss= 76390.379140625\n",
      ">>> train | epoch = 16 | time= 7.923796653747559 sec | loss= 76389.9109765625\n",
      ">>> train | epoch = 17 | time= 8.00261378288269 sec | loss= 76389.62653645834\n",
      ">>> train | epoch = 18 | time= 8.165202140808105 sec | loss= 76389.35796875\n",
      ">>> train | epoch = 19 | time= 8.007720470428467 sec | loss= 76389.207421875\n",
      ">>> train | epoch = 20 | time= 7.748479604721069 sec | loss= 76388.76372395833\n",
      ">>> train | epoch = 21 | time= 8.368684530258179 sec | loss= 76388.64798177083\n",
      ">>> train | epoch = 22 | time= 7.904896020889282 sec | loss= 76388.38611979167\n",
      ">>> train | epoch = 23 | time= 7.8205249309539795 sec | loss= 76388.13256510417\n",
      ">>> train | epoch = 24 | time= 8.246253967285156 sec | loss= 76387.82635416667\n",
      ">>> train | epoch = 25 | time= 7.8939878940582275 sec | loss= 76387.56776041667\n",
      ">>> train | epoch = 26 | time= 7.780731439590454 sec | loss= 76387.36330729167\n",
      ">>> train | epoch = 27 | time= 7.7412214279174805 sec | loss= 76387.213203125\n",
      ">>> train | epoch = 28 | time= 7.760282039642334 sec | loss= 76386.99591145833\n",
      ">>> train | epoch = 29 | time= 7.77068829536438 sec | loss= 76386.72166666666\n",
      ">>> train | epoch = 30 | time= 7.724756717681885 sec | loss= 76386.55576822917\n",
      ">>> train | epoch = 31 | time= 8.475155115127563 sec | loss= 76386.38005208333\n",
      ">>> train | epoch = 32 | time= 10.85072660446167 sec | loss= 76386.27217447916\n",
      ">>> train | epoch = 33 | time= 13.04457688331604 sec | loss= 76386.09180989584\n",
      ">>> train | epoch = 34 | time= 12.956292867660522 sec | loss= 76385.99341145833\n",
      ">>> train | epoch = 35 | time= 12.923277854919434 sec | loss= 76385.85572916667\n",
      ">>> train | epoch = 36 | time= 13.115407705307007 sec | loss= 76385.7279296875\n",
      ">>> train | epoch = 37 | time= 7.657006502151489 sec | loss= 76385.71600260417\n",
      ">>> train | epoch = 38 | time= 7.524143218994141 sec | loss= 76385.54397135417\n",
      ">>> train | epoch = 39 | time= 7.661216497421265 sec | loss= 76385.4916015625\n",
      ">>> train | epoch = 40 | time= 13.000621318817139 sec | loss= 76385.293828125\n",
      ">>> train | epoch = 41 | time= 13.097269296646118 sec | loss= 76385.30536458333\n",
      ">>> train | epoch = 42 | time= 12.980095386505127 sec | loss= 76385.19889322917\n",
      ">>> train | epoch = 43 | time= 13.02775239944458 sec | loss= 76385.02479166667\n",
      ">>> train | epoch = 44 | time= 12.9790518283844 sec | loss= 76384.98606770833\n",
      ">>> train | epoch = 45 | time= 12.974360466003418 sec | loss= 76384.89619791666\n",
      ">>> train | epoch = 46 | time= 13.005950927734375 sec | loss= 76384.85259114583\n",
      ">>> train | epoch = 47 | time= 7.764244079589844 sec | loss= 76384.7542578125\n",
      ">>> train | epoch = 48 | time= 7.745974063873291 sec | loss= 76384.618984375\n",
      ">>> train | epoch = 49 | time= 7.173862457275391 sec | loss= 76384.66766927083\n",
      ">>> train | epoch = 50 | time= 7.131324291229248 sec | loss= 76384.55298177083\n",
      ">>> train | epoch = 51 | time= 7.1302855014801025 sec | loss= 76384.41411458333\n",
      ">>> train | epoch = 52 | time= 7.1351916790008545 sec | loss= 76384.37046875\n",
      ">>> train | epoch = 53 | time= 7.128148078918457 sec | loss= 76384.35453125\n",
      ">>> train | epoch = 54 | time= 12.993364095687866 sec | loss= 76384.23967447916\n",
      ">>> train | epoch = 55 | time= 12.992682218551636 sec | loss= 76384.20782552083\n",
      ">>> train | epoch = 56 | time= 12.975796699523926 sec | loss= 76384.16950520834\n",
      ">>> train | epoch = 57 | time= 7.686996221542358 sec | loss= 76384.0839453125\n",
      ">>> train | epoch = 58 | time= 12.896855354309082 sec | loss= 76384.02852864584\n",
      ">>> train | epoch = 59 | time= 13.009841918945312 sec | loss= 76384.02536458333\n",
      ">>> train | epoch = 60 | time= 7.659915924072266 sec | loss= 76383.9787109375\n",
      ">>> train | epoch = 61 | time= 7.801578521728516 sec | loss= 76383.90791666666\n",
      ">>> train | epoch = 62 | time= 12.976956367492676 sec | loss= 76383.8326171875\n",
      ">>> train | epoch = 63 | time= 12.733709812164307 sec | loss= 76383.78291666666\n",
      ">>> train | epoch = 64 | time= 12.91426134109497 sec | loss= 76383.70854166667\n",
      ">>> train | epoch = 65 | time= 12.984409093856812 sec | loss= 76383.80703125\n",
      ">>> train | epoch = 66 | time= 12.76970911026001 sec | loss= 76383.6346484375\n",
      ">>> train | epoch = 67 | time= 12.880244493484497 sec | loss= 76383.62072916667\n",
      ">>> train | epoch = 68 | time= 12.978399753570557 sec | loss= 76383.5598828125\n",
      ">>> train | epoch = 69 | time= 12.945207357406616 sec | loss= 76383.4700390625\n",
      ">>> train | epoch = 70 | time= 12.945830345153809 sec | loss= 76383.39291666666\n",
      ">>> train | epoch = 71 | time= 12.999572038650513 sec | loss= 76383.4416015625\n",
      ">>> train | epoch = 72 | time= 12.941415548324585 sec | loss= 76383.31440104167\n",
      ">>> train | epoch = 73 | time= 12.99485993385315 sec | loss= 76383.330703125\n",
      ">>> train | epoch = 74 | time= 8.034373044967651 sec | loss= 76383.39059895833\n",
      ">>> train | epoch = 75 | time= 7.897760629653931 sec | loss= 76383.357578125\n",
      ">>> train | epoch = 76 | time= 7.674209117889404 sec | loss= 76383.21627604167\n",
      ">>> train | epoch = 77 | time= 7.6589977741241455 sec | loss= 76383.24270833333\n",
      ">>> train | epoch = 78 | time= 7.659321546554565 sec | loss= 76383.11927083334\n",
      ">>> train | epoch = 79 | time= 8.03572416305542 sec | loss= 76383.18716145834\n",
      ">>> train | epoch = 80 | time= 7.65304160118103 sec | loss= 76383.09368489584\n",
      ">>> train | epoch = 81 | time= 7.662699460983276 sec | loss= 76383.04904947917\n",
      ">>> train | epoch = 82 | time= 7.654848337173462 sec | loss= 76383.08365885417\n",
      ">>> train | epoch = 83 | time= 7.647818326950073 sec | loss= 76382.98296875\n",
      ">>> train | epoch = 84 | time= 7.722573518753052 sec | loss= 76382.8694140625\n",
      ">>> train | epoch = 85 | time= 7.736900329589844 sec | loss= 76383.0076953125\n",
      ">>> train | epoch = 86 | time= 7.652540445327759 sec | loss= 76382.8940234375\n",
      ">>> train | epoch = 87 | time= 7.66024112701416 sec | loss= 76382.84770833333\n",
      ">>> train | epoch = 88 | time= 7.63827109336853 sec | loss= 76382.8201171875\n",
      ">>> train | epoch = 89 | time= 7.666791677474976 sec | loss= 76382.767265625\n",
      ">>> train | epoch = 90 | time= 7.645730495452881 sec | loss= 76382.7026953125\n",
      ">>> train | epoch = 91 | time= 7.672393321990967 sec | loss= 76382.6659765625\n",
      ">>> train | epoch = 92 | time= 7.734053134918213 sec | loss= 76382.62821614584\n",
      ">>> train | epoch = 93 | time= 7.740627765655518 sec | loss= 76382.62045572916\n",
      ">>> train | epoch = 94 | time= 7.653473854064941 sec | loss= 76382.74940104167\n",
      ">>> train | epoch = 95 | time= 7.670649290084839 sec | loss= 76382.68779947917\n",
      ">>> train | epoch = 96 | time= 7.658218860626221 sec | loss= 76382.58598958333\n",
      ">>> train | epoch = 97 | time= 7.661826133728027 sec | loss= 76382.48704427083\n",
      ">>> train | epoch = 98 | time= 7.6549296379089355 sec | loss= 76382.43330729166\n",
      ">>> train | epoch = 99 | time= 7.638321161270142 sec | loss= 76382.4522265625\n",
      "Training Done\n"
     ]
    }
   ],
   "source": [
    "print(\"Training Started\")\n",
    "for i in range(epochs_start, epochs_end):\n",
    "    epoch = i + 1\n",
    "    loss_history['training'].append(0)\n",
    "    start_time = time.time()\n",
    "    for j, batch in enumerate(training_iterator):\n",
    "        with chainer.using_config('train', True):\n",
    "            x = concat_examples(batch=batch, device=device)\n",
    "            mean_z, ln_var_z, x, mean_x, ln_var_x = model(x)\n",
    "            loss = lossFunc(mean_z, ln_var_z, x, mean_x, ln_var_x)\n",
    "            model.cleargrads()\n",
    "            loss.backward()\n",
    "            optimizer.update()\n",
    "\n",
    "        loss_history['training'][-1] += float(loss.data)\n",
    "#         print('train=',j,' loss=',loss)\n",
    "    loss_history['training'][-1] /= j + 1\n",
    "    print('>>> train | epoch = {} | time= {} sec | loss= {}'.format(i, (time.time() - start_time), \n",
    "                                                        loss_history['training'][-1]))\n",
    "    training_iterator.reset()\n",
    "    if (epochs_end==epoch):\n",
    "        np.savez('{:s}/loss_history_ts_{:s}_{:03d}.npz'.format('Result', train_session, epoch), loss_history)\n",
    "        serializers.save_npz('{:s}/model_ts_{:s}_{:03d}.npz'.format('Result', train_session, epoch), model)\n",
    "        serializers.save_npz('{:s}/optimizer_ts_{:s}_{:03d}.npz'.format('Result', train_session, epoch), optimizer)\n",
    "    else:\n",
    "        np.savez('{:s}/loss_history_ts_{:s}_{:03d}.npz'.format(model_directory, train_session, epoch), loss_history)\n",
    "        serializers.save_npz('{:s}/model_ts_{:s}_{:03d}.npz'.format(model_directory, train_session, epoch), model)\n",
    "        serializers.save_npz('{:s}/optimizer_ts_{:s}_{:03d}.npz'.format(model_directory, train_session, epoch), optimizer)\n",
    "\n",
    "print(\"Training Done\")"
   ]
  },
  {
   "cell_type": "code",
   "execution_count": 12,
   "metadata": {},
   "outputs": [],
   "source": [
    "# print(loss_history['training'])"
   ]
  },
  {
   "cell_type": "code",
   "execution_count": 13,
   "metadata": {},
   "outputs": [
    {
     "data": {
      "text/plain": [
       "[<matplotlib.lines.Line2D at 0x7f73efa81668>]"
      ]
     },
     "execution_count": 13,
     "metadata": {},
     "output_type": "execute_result"
    },
    {
     "data": {
      "image/png": "[encoded data removed]",
      "text/plain": [
       "<Figure size 1080x720 with 1 Axes>"
      ]
     },
     "metadata": {
      "needs_background": "light"
     },
     "output_type": "display_data"
    }
   ],
   "source": [
    "fig=plt.figure(figsize=(15, 10))\n",
    "plt.xlabel('Epochs')\n",
    "plt.ylabel('Loss')\n",
    "plt.plot(loss_history['training'])"
   ]
  },
  {
   "cell_type": "markdown",
   "metadata": {},
   "source": [
    "# Test"
   ]
  },
  {
   "cell_type": "code",
   "execution_count": 14,
   "metadata": {},
   "outputs": [],
   "source": [
    "# encoder_T = Encoder()\n",
    "# decoder_T = Decoder()\n",
    "# model_T = Model(decoder_T, encoder_T) if device < 0 else Model(decoder_T, encoder_T).to_gpu(device)\n",
    "# serializers.load_npz('{:s}/model_ts_{:s}_{:03d}.npz'.format('Result', train_session, epochs_end), model_T)\n",
    "\n",
    "# lossFunc_T = Loss()\n",
    "\n",
    "# batch_size = 100\n",
    "# test_set = Mnist()\n",
    "# test_iterator = SerialIterator(test_set, batch_size, False, True)\n",
    "\n",
    "# test_history = []\n",
    "# test_x = []\n",
    "# test_mean_x = []\n",
    "# test_var_x = []\n",
    "\n",
    "# print('Test Starting...')\n",
    "# for i in range(1):\n",
    "#     epoch = i + 1\n",
    "    \n",
    "#     start_time = time.time()\n",
    "#     for j, batch in enumerate(test_iterator):\n",
    "#         with chainer.using_config('train', False):\n",
    "#             x = concat_examples(batch=batch, device=device)\n",
    "#             mean_z, ln_var_z, x, mean_x, ln_var_x = model_T(x)\n",
    "#             loss = lossFunc_T(mean_z, ln_var_z, x, mean_x, ln_var_x)\n",
    "#             test_x.append(x)\n",
    "#             test_mean_x.append(mean_x)\n",
    "#             test_var_x.append(ln_var_z)\n",
    "\n",
    "#         test_history.append(float(loss.data))\n",
    "# #         print('test epoch=',epoch,'test batch=',j,' loss=',loss)\n",
    "#     np.savez('{:s}/test_loss_history_ts_{:s}_{:03d}.npz'.format('Result', train_session, epoch), test_history)\n",
    "# print('Test Done...')\n"
   ]
  },
  {
   "cell_type": "code",
   "execution_count": 15,
   "metadata": {},
   "outputs": [],
   "source": [
    "# if device<0:\n",
    "#     in_x_1  =      test_x[0][0].reshape(28,28)\n",
    "#     out_x_1 = test_mean_x[0][0].data.reshape(28,28)\n",
    "\n",
    "#     in_x_2  =      test_x[0][1].reshape(28,28)\n",
    "#     out_x_2 = test_mean_x[0][1].data.reshape(28,28)\n",
    "# else:\n",
    "#     in_x_1  =      test_x[0][0].get().reshape(28,28)\n",
    "#     out_x_1 = test_mean_x[0][0].data.get().reshape(28,28)\n",
    "\n",
    "#     in_x_2  =      test_x[0][1].get().reshape(28,28)\n",
    "#     out_x_2 = test_mean_x[0][1].data.get().reshape(28,28)\n",
    "\n",
    "# fig=plt.figure(figsize=(10, 10))\n",
    "\n",
    "# plt.subplot(221)\n",
    "# plt.title('Input (1)')\n",
    "# plt.imshow(in_x_1)\n",
    "\n",
    "# plt.subplot(222)\n",
    "# plt.title('output (1)')\n",
    "# plt.imshow(out_x_1)\n",
    "\n",
    "# plt.subplot(223)\n",
    "# plt.title('Input (2)')\n",
    "# plt.imshow(in_x_2)\n",
    "\n",
    "# plt.subplot(224)\n",
    "# plt.title('output (2)')\n",
    "# plt.imshow(out_x_2)"
   ]
  },
  {
   "cell_type": "markdown",
   "metadata": {
    "colab_type": "text",
    "id": "EzCbq-7SKmBW"
   },
   "source": [
    "Bonus task: Try the same experiments on a different dataset. (20 bonus points)\n",
    "\n",
    "http://ruishu.io/2018/03/14/vae/"
   ]
  },
  {
   "cell_type": "markdown",
   "metadata": {},
   "source": [
    "# Optimizer Eval"
   ]
  },
  {
   "cell_type": "code",
   "execution_count": 16,
   "metadata": {},
   "outputs": [
    {
     "name": "stdout",
     "output_type": "stream",
     "text": [
      "76368.30516927084\n"
     ]
    },
    {
     "data": {
      "image/png": "[encoded data removed]",
      "text/plain": [
       "<Figure size 1080x720 with 1 Axes>"
      ]
     },
     "metadata": {
      "needs_background": "light"
     },
     "output_type": "display_data"
    }
   ],
   "source": [
    "loss_His = np.load('{:s}/loss_history_ts_{:s}_{:03d}.npz'.format('Result', 'Adam', 20))\n",
    "loss_His = loss_His[loss_His.files[0]]\n",
    "loss_His = loss_His.reshape(1,)[0]\n",
    "\n",
    "fig=plt.figure(figsize=(15, 10))\n",
    "plt.xlabel('Epochs')\n",
    "plt.ylabel('Loss')\n",
    "plt.plot(loss_His['training'])\n",
    "\n",
    "print(loss_His['training'][-1])"
   ]
  },
  {
   "cell_type": "code",
   "execution_count": 17,
   "metadata": {},
   "outputs": [
    {
     "name": "stdout",
     "output_type": "stream",
     "text": [
      "76388.58677083334\n"
     ]
    },
    {
     "data": {
      "image/png": "[encoded data removed]",
      "text/plain": [
       "<Figure size 1080x720 with 1 Axes>"
      ]
     },
     "metadata": {
      "needs_background": "light"
     },
     "output_type": "display_data"
    }
   ],
   "source": [
    "loss_His = np.load('{:s}/loss_history_ts_{:s}_{:03d}.npz'.format('Result', 'SGD', 20))\n",
    "loss_His = loss_His[loss_His.files[0]]\n",
    "loss_His = loss_His.reshape(1,)[0]\n",
    "\n",
    "fig=plt.figure(figsize=(15, 10))\n",
    "plt.xlabel('Epochs')\n",
    "plt.ylabel('Loss')\n",
    "plt.plot(loss_His['training'])\n",
    "\n",
    "print(loss_His['training'][-1])"
   ]
  },
  {
   "cell_type": "code",
   "execution_count": 18,
   "metadata": {},
   "outputs": [
    {
     "name": "stdout",
     "output_type": "stream",
     "text": [
      "76579.274609375\n"
     ]
    },
    {
     "data": {
      "image/png": "[encoded data removed]",
      "text/plain": [
       "<Figure size 1080x720 with 1 Axes>"
      ]
     },
     "metadata": {
      "needs_background": "light"
     },
     "output_type": "display_data"
    }
   ],
   "source": [
    "loss_His = np.load('{:s}/loss_history_ts_{:s}_{:03d}.npz'.format('Result', 'RMSprop', 20))\n",
    "loss_His = loss_His[loss_His.files[0]]\n",
    "loss_His = loss_His.reshape(1,)[0]\n",
    "\n",
    "fig=plt.figure(figsize=(15, 10))\n",
    "plt.xlabel('Epochs')\n",
    "plt.ylabel('Loss')\n",
    "plt.plot(loss_His['training'])\n",
    "\n",
    "print(loss_His['training'][-1])"
   ]
  }
 ],
 "metadata": {
  "colab": {
   "collapsed_sections": [],
   "name": "weeks_6_and_7",
   "provenance": [],
   "version": "0.3.2"
  },
  "kernelspec": {
   "display_name": "Python 3",
   "language": "python",
   "name": "python3"
  },
  "language_info": {
   "codemirror_mode": {
    "name": "ipython",
    "version": 3
   },
   "file_extension": ".py",
   "mimetype": "text/x-python",
   "name": "python",
   "nbconvert_exporter": "python",
   "pygments_lexer": "ipython3",
   "version": "3.6.6"
  }
 },
 "nbformat": 4,
 "nbformat_minor": 1
}
